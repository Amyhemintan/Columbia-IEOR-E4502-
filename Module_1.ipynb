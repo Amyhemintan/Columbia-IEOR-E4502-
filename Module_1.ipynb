{
  "nbformat": 4,
  "nbformat_minor": 0,
  "metadata": {
    "colab": {
      "name": "Module 1",
      "provenance": [],
      "collapsed_sections": [
        "3DReKbFqKi3v",
        "0Q5P8dszT2bU",
        "Ga5Udvqmiu_o",
        "Rc_Gq_bbj4mV",
        "I5ORTDCFkUmi",
        "0SmK3xDglXAF"
      ],
      "toc_visible": true
    },
    "kernelspec": {
      "name": "python3",
      "display_name": "Python 3"
    },
    "language_info": {
      "name": "python"
    }
  },
  "cells": [
    {
      "cell_type": "markdown",
      "metadata": {
        "id": "3DReKbFqKi3v"
      },
      "source": [
        "# 1.1Variables\n"
      ]
    },
    {
      "cell_type": "code",
      "metadata": {
        "id": "BhYDCkZeKCjd"
      },
      "source": [
        "#Variable is used to stored data value in programming language. \n",
        "#Data may be anything String, Integers, float \n",
        "#Single value\n",
        "#\\t can be used to add a tab while \\n can input a new line."
      ],
      "execution_count": null,
      "outputs": []
    },
    {
      "cell_type": "code",
      "metadata": {
        "colab": {
          "base_uri": "https://localhost:8080/"
        },
        "id": "SGy_8_-uKhue",
        "outputId": "8ff4cb53-04fc-4100-9440-2155f35ce0f5"
      },
      "source": [
        "a = '#pythonrules' # string\n",
        "b = 30              # integer\n",
        "c = True            # boolean\n",
        "print('3:','String:', a, '\\tInteger:', b, '\\tBoolean:', c)"
      ],
      "execution_count": null,
      "outputs": [
        {
          "output_type": "stream",
          "text": [
            "3: String: #pythonrules \tInteger: 30 \tBoolean: True\n"
          ],
          "name": "stdout"
        }
      ]
    },
    {
      "cell_type": "markdown",
      "metadata": {
        "id": "4KEA6a8iMLTc"
      },
      "source": [
        "## The type Function"
      ]
    },
    {
      "cell_type": "code",
      "metadata": {
        "id": "ySPjQrMuMPg-"
      },
      "source": [
        "#Variables can be reassigned to a different type.\n",
        "#string str(), integer int(), floating float()"
      ],
      "execution_count": null,
      "outputs": []
    },
    {
      "cell_type": "code",
      "metadata": {
        "colab": {
          "base_uri": "https://localhost:8080/"
        },
        "id": "vLGhZOjrLrP7",
        "outputId": "3db4927f-0e6b-459d-ac06-5f6f87a890de"
      },
      "source": [
        "a = 1\n",
        "a = str(a)\n",
        "print (a, type(a))\n",
        "\n",
        "a = float(a)\n",
        "print (a, type(a))"
      ],
      "execution_count": null,
      "outputs": [
        {
          "output_type": "stream",
          "text": [
            "1 <class 'str'>\n",
            "1.0 <class 'float'>\n"
          ],
          "name": "stdout"
        }
      ]
    },
    {
      "cell_type": "code",
      "metadata": {
        "id": "QExZyqkSNGa8"
      },
      "source": [
        "#Boolean bool()  1 for True or 0 for False"
      ],
      "execution_count": null,
      "outputs": []
    },
    {
      "cell_type": "code",
      "metadata": {
        "colab": {
          "base_uri": "https://localhost:8080/"
        },
        "id": "GkfwLjRYM9XV",
        "outputId": "d905f246-f113-461c-80e0-2bff71d9bfe6"
      },
      "source": [
        "c = 1\n",
        "c= bool(c) #1 for True \n",
        "print (c, type(c))\n",
        "\n",
        "d = 0\n",
        "d= bool(d)  #0 for False\n",
        "print (d, type(d))"
      ],
      "execution_count": null,
      "outputs": [
        {
          "output_type": "stream",
          "text": [
            "True <class 'bool'>\n",
            "False <class 'bool'>\n"
          ],
          "name": "stdout"
        }
      ]
    },
    {
      "cell_type": "code",
      "metadata": {
        "id": "uvoF2N11NbsA"
      },
      "source": [
        "#Null values  None "
      ],
      "execution_count": null,
      "outputs": []
    },
    {
      "cell_type": "code",
      "metadata": {
        "colab": {
          "base_uri": "https://localhost:8080/"
        },
        "id": "bF4B4oRgNkXO",
        "outputId": "908ac6d1-3937-425b-e73f-312b5da17c2a"
      },
      "source": [
        "a = None\n",
        "print(a)"
      ],
      "execution_count": null,
      "outputs": [
        {
          "output_type": "stream",
          "text": [
            "None\n"
          ],
          "name": "stdout"
        }
      ]
    },
    {
      "cell_type": "markdown",
      "metadata": {
        "id": "KMJT8tVoN1qN"
      },
      "source": [
        "## Operations on Numeric Variables"
      ]
    },
    {
      "cell_type": "code",
      "metadata": {
        "colab": {
          "base_uri": "https://localhost:8080/"
        },
        "id": "AY7DHTNhN22a",
        "outputId": "bd0a2c29-9501-4677-bda0-a2146cc7e1c2"
      },
      "source": [
        "print('Addition:', 53 + 5)\n",
        "print('Multiplication:', 53 * 5)\n",
        "print('Subtraction:', 53 - 5)\n",
        "print('Division', 53 / 5 )\n",
        "print('Floor Division (discards the fractional part)', 53 // 5 )\n",
        "print('Floor Division (returns the remainder)', 53 % 5 )\n",
        "print('Exponents:', 5 ** 2 )"
      ],
      "execution_count": null,
      "outputs": [
        {
          "output_type": "stream",
          "text": [
            "Addition: 58\n",
            "Multiplication: 265\n",
            "Subtraction: 48\n",
            "Division 10.6\n",
            "Floor Division (discards the fractional part) 10\n",
            "Floor Division (returns the remainder) 3\n",
            "Exponents: 25\n"
          ],
          "name": "stdout"
        }
      ]
    },
    {
      "cell_type": "markdown",
      "metadata": {
        "id": "9zONJ2f6OcPK"
      },
      "source": [
        "## Operations on String Variables"
      ]
    },
    {
      "cell_type": "code",
      "metadata": {
        "id": "1bLfGNbSOcBB"
      },
      "source": [
        "#Concatentate Strings #backslash is used as an escape variable."
      ],
      "execution_count": null,
      "outputs": []
    },
    {
      "cell_type": "code",
      "metadata": {
        "id": "WDsL0KRwOm4d"
      },
      "source": [
        "a='Start'\n",
        "b='End'\n",
        "tab='\\t'\n",
        "newline='\\n'\n",
        "c='can\\'t'  #Note that we have to use the Escape character '\\' to inclue a apostrophe '  in the key.\n",
        "cb=\"can't\"\n",
        "\n",
        "\n",
        "print('Concatenation:', a+b ) #Concatenation: StartEnd\n",
        "print('Tab:', a+tab+b ) #Tab: Start\tEnd\n",
        "print('Newline:', a+newline+b ) #Newline: Start\n",
        "                                #End\n",
        "print('Apostrophe:', c )   # Apostrophe: can't\n",
        "print('Apostrophe:', cb )  #Apostrophe: can't\n",
        "\n",
        "\n"
      ],
      "execution_count": null,
      "outputs": []
    },
    {
      "cell_type": "markdown",
      "metadata": {
        "id": "GkYnILrcS48p"
      },
      "source": [
        "## Calling Functions on Variables"
      ]
    },
    {
      "cell_type": "code",
      "metadata": {
        "id": "-cTo-HU0RA_A"
      },
      "source": [
        "#We can call functions in a conventional way using round brackets\n",
        "#abs() , round(), chr()"
      ],
      "execution_count": null,
      "outputs": []
    },
    {
      "cell_type": "code",
      "metadata": {
        "colab": {
          "base_uri": "https://localhost:8080/"
        },
        "id": "lYFZRMd9R1cZ",
        "outputId": "32492e04-b830-4140-da98-bdcb1df7e841"
      },
      "source": [
        "a=abs(-98.45)\n",
        "a=round(a) #98\n",
        "print('round() rounds to nearest integer:', a )\n",
        "character=chr(a) #chr(98) representing a character\n",
        "print('chr(98) returns the string representing a character whose Unicode code point is associated with the integer:',character) "
      ],
      "execution_count": null,
      "outputs": [
        {
          "output_type": "stream",
          "text": [
            "round() rounds to nearest integer: 98\n",
            "chr(98) returns the string representing a character whose Unicode code point is associated with the integer: b\n"
          ],
          "name": "stdout"
        }
      ]
    },
    {
      "cell_type": "markdown",
      "metadata": {
        "id": "EbR7Y_agSFz4"
      },
      "source": [
        ""
      ]
    },
    {
      "cell_type": "markdown",
      "metadata": {
        "id": "0Q5P8dszT2bU"
      },
      "source": [
        "# 1.2 Lists"
      ]
    },
    {
      "cell_type": "code",
      "metadata": {
        "id": "4x2KIef0T7M2"
      },
      "source": [
        "#Lists can be used to contain a sequence of values of any type.\n",
        "#You can do operations on lists.\n",
        "# start at 0, first value: a[0]\n",
        "#Lists can be sliced or indexed using the start and end value a[start:end]\n",
        "#Lists are mutable datastructures, meaning that they can be changed (added to)."
      ],
      "execution_count": null,
      "outputs": []
    },
    {
      "cell_type": "code",
      "metadata": {
        "id": "beHoL2llU85W"
      },
      "source": [
        "a = [1, 2, 'three', 'four', 5.0]\n",
        "print('Print from second value till end  of list:', a[2:]) #['three', 'four', 5.0]\n",
        "print('Print up till the 2nd to last value:', a[:-2]) #[1, 2, 'three']\n",
        "type(a) #list"
      ],
      "execution_count": null,
      "outputs": []
    },
    {
      "cell_type": "markdown",
      "metadata": {
        "id": "zvj2niMMVrBR"
      },
      "source": [
        "## Nested Lists "
      ]
    },
    {
      "cell_type": "code",
      "metadata": {
        "id": "onN49Yk3VwB2"
      },
      "source": [
        "#The elements of a nested list is specified after the first list when slicing c[0][0]"
      ],
      "execution_count": null,
      "outputs": []
    },
    {
      "cell_type": "code",
      "metadata": {
        "id": "ZZ6Q091bV0WO"
      },
      "source": [
        "a = [1, 2, 'three', 'four', 5.0]\n",
        "b = [6, 'seven', 8, 'nine']\n",
        "c = [a, b]\n",
        "\n",
        "print(c)    #[[1, 2, 'three', 'four', 5.0], [6, 'seven', 8, 'nine']]\n",
        "print( c[0])  # [1, 2, 'three', 'four', 5.0]\n",
        "print( c[1][0])   # 6"
      ],
      "execution_count": null,
      "outputs": []
    },
    {
      "cell_type": "markdown",
      "metadata": {
        "id": "zc2dq0s8WnlU"
      },
      "source": [
        "## Lists functions"
      ]
    },
    {
      "cell_type": "code",
      "metadata": {
        "id": "fcx1C3oEWr2d"
      },
      "source": [
        "\n",
        "https://docs.python.org/3/tutorial/datastructures.html"
      ],
      "execution_count": null,
      "outputs": []
    },
    {
      "cell_type": "code",
      "metadata": {
        "id": "M0j9RZX7c47c"
      },
      "source": [
        "#Add an item to the end of the list\n",
        "b = [6, 'seven', 8, 'nine'] #[6, 'seven', 8, 'nine', 10]\n",
        "b.append(10)\n",
        "print( b)\n",
        "\n",
        "b[len(b):] = ['Eleven',12] #[6, 'seven', 8, 'nine', 10, 'Eleven', 12]\n",
        "print(b)\n"
      ],
      "execution_count": null,
      "outputs": []
    },
    {
      "cell_type": "code",
      "metadata": {
        "id": "-odK9VF0dzXR"
      },
      "source": [
        "# Adding item 1)list.append(x) 2)list.extend(iterable) 3)a[len(a):] \n",
        "# Insert item 1)a.insert(0, x) *in front 2)a.insert(len(a), x) \n",
        "# Remove item 1)a.remove(x) 2)a.pop([i]) 3)a.clear() 4)del a[:]\n",
        "# Index: 1)a.index(x[, start[, end]])\n",
        "# Count: 1)list.count(x)\n",
        "# Sort: 1)list.sort() 2)list.reverse()\n",
        "#same list : lista = listb   modify one it will modify both.\n",
        "#copy of a list: lista=listb[:] lista2=listb2.copy()"
      ],
      "execution_count": null,
      "outputs": []
    },
    {
      "cell_type": "code",
      "metadata": {
        "id": "oh_HA8f3e7mD"
      },
      "source": [
        "fruits = ['orange', 'apple', 'pear', 'banana', 'kiwi', 'apple', 'banana']\n",
        "\n",
        "fruits.count('tangerine') #0\n",
        "\n",
        "fruits.pop() #only take the last item\n",
        "\n",
        "fruits.sort()\n",
        "fruits #['apple', 'apple', 'banana', 'kiwi', 'orange', 'pear']\n",
        "\n",
        "fruits.insert(3, \"nana\")\n",
        "fruits #['apple', 'apple', 'banana', 'nana', 'kiwi', 'orange', 'pear']\n",
        "\n",
        "fruits.extend(\"nana\")\n",
        "fruits\n"
      ],
      "execution_count": null,
      "outputs": []
    },
    {
      "cell_type": "code",
      "metadata": {
        "colab": {
          "base_uri": "https://localhost:8080/"
        },
        "id": "slz043WGrryV",
        "outputId": "2bd2420e-b73c-4132-e18d-b8d722199a75"
      },
      "source": [
        "vec = [-4, -2, 0, 2, 4]\n",
        "[x*2 for x in vec]\n",
        "[x for x in vec if x >=0 ]  #[0, 2, 4]\n",
        "[abs(x) for x in vec] #[4, 2, 0, 2, 4]\n",
        "\n",
        "#create a list of 2-tuples like (number, square)\n",
        "[(x, x*2) for x in range(6)] #[(0, 0), (1, 2), (2, 4), (3, 6), (4, 8), (5, 10)]\n",
        "\n",
        "#flatten a list using a listcomp with two 'for'\n",
        "vec = [[1,2,3], [4,5,6], [7,8,9]]\n",
        "[num for elem in vec for num in elem] #[1, 2, 3, 4, 5, 6, 7, 8, 9]\n",
        "\n",
        "#List comprehensions can contain complex expressions and nested functions:\n",
        "from math import pi \n",
        "[str(round(pi,i))for i in range(1,6)] #\n",
        "[num for elem in vec for num in elem] #[1, 2, 3, 4, 5, 6, 7, 8, 9]\n",
        "\n",
        "#List comprehensions can contain complex expressions and nested functions:\n",
        "from math import pi \n",
        "[str(round(pi,i))for i in range(1,6)] #['3.1', '3.14', '3.142', '3.1416', '3.14159']"
      ],
      "execution_count": null,
      "outputs": [
        {
          "output_type": "execute_result",
          "data": {
            "text/plain": [
              "['3.1', '3.14', '3.142', '3.1416', '3.14159']"
            ]
          },
          "metadata": {},
          "execution_count": 9
        }
      ]
    },
    {
      "cell_type": "code",
      "metadata": {
        "id": "M5jRPLA7fxp-",
        "colab": {
          "base_uri": "https://localhost:8080/"
        },
        "outputId": "f3605e23-4255-49a8-af33-390676e118a2"
      },
      "source": [
        "#Nested List Comprehensions\n",
        "matrix = [\n",
        "     [1, 2, 3, 4],\n",
        "     [5, 6, 7, 8],\n",
        "     [9, 10, 11, 12],\n",
        " ]\n",
        "[[row[i] for row in matrix for i in range(4)]] #1 \n",
        "list(zip(*matrix)) #[(1, 5, 9), (2, 6, 10), (3, 7, 11), (4, 8, 12)]\n"
      ],
      "execution_count": null,
      "outputs": [
        {
          "output_type": "execute_result",
          "data": {
            "text/plain": [
              "[(1, 5, 9), (2, 6, 10), (3, 7, 11), (4, 8, 12)]"
            ]
          },
          "metadata": {},
          "execution_count": 14
        }
      ]
    },
    {
      "cell_type": "markdown",
      "metadata": {
        "id": "Ne4NUTfxdtrR"
      },
      "source": [
        "# 1.3 Tuples and Sequences"
      ]
    },
    {
      "cell_type": "code",
      "metadata": {
        "id": "5NgcyD9TxzgW"
      },
      "source": [
        "#A tuple consists of a number of values separated by commas\n",
        "#ex t = 12345, 54321, 'hello!'\n",
        "#output tuples are always enclosed in parentheses\n",
        "#Tuples are immutable\n",
        "#indexing"
      ],
      "execution_count": null,
      "outputs": []
    },
    {
      "cell_type": "code",
      "metadata": {
        "id": "6M6SXMs8zd8q"
      },
      "source": [
        "t = 12345, 54321, 'hello !'\n",
        "t[0] #12345 indexing\n",
        "t  #(12345, 54321, 'hello!')  output()\n",
        "\n",
        "#Tuples may be nested:\n",
        "u = t, (1, 2, 3, 4, 5)  \n",
        "u  ##((12345, 54321, 'hello !'), (1, 2, 3, 4, 5))\n",
        "\n",
        "#  Tuples are immutable:\n",
        "#t[1]=800\n",
        "\n",
        "#Empty tuples are constructed by an empty pair of parentheses;\n",
        "emty=()\n",
        "\n",
        "#a tuple with one item is constructed by following a value with a comma\n",
        "singlenton = 'hello', #len=1"
      ],
      "execution_count": null,
      "outputs": []
    },
    {
      "cell_type": "markdown",
      "metadata": {
        "id": "Ga5Udvqmiu_o"
      },
      "source": [
        "#1.4 Sets {}"
      ]
    },
    {
      "cell_type": "code",
      "metadata": {
        "id": "xJDSXJvrixAV"
      },
      "source": [
        "#A set contains no duplicates. vs. Lists can contain duplicate values.\n",
        "#Sets can be created from lists. set()\n",
        "#or write a set literal {} brackets."
      ],
      "execution_count": null,
      "outputs": []
    },
    {
      "cell_type": "code",
      "metadata": {
        "id": "xLkTUXKtjWGu"
      },
      "source": [
        "# creates a set from a list. \n",
        "X = set([1, 2, 3, 3, 4]) \n",
        "print(X, type(X)) #{1, 2, 3, 4} <class 'set'>"
      ],
      "execution_count": null,
      "outputs": []
    },
    {
      "cell_type": "code",
      "metadata": {
        "id": "c5g_KP3OjwbV"
      },
      "source": [
        "X = {1, 2, 3, 4, 4}\n",
        "print(X, type(X)) #{1, 2, 3, 4} <class 'set'>"
      ],
      "execution_count": null,
      "outputs": []
    },
    {
      "cell_type": "markdown",
      "metadata": {
        "id": "Rc_Gq_bbj4mV"
      },
      "source": [
        "## Sets are Mutable"
      ]
    },
    {
      "cell_type": "code",
      "metadata": {
        "id": "GPm0KMk_j9RA"
      },
      "source": [
        "#Sets are mutable like lists (meaning we can change them)\n",
        "#Duplicates are automatically removed"
      ],
      "execution_count": null,
      "outputs": []
    },
    {
      "cell_type": "code",
      "metadata": {
        "id": "xqx6ogFekIj3"
      },
      "source": [
        "#Duplicates are automatically removed\n",
        "X = {1, 2, 3, 4}\n",
        "X.add(0)\n",
        "X.add(5)\n",
        "print(X) #{0, 1, 2, 3, 4, 5}\n",
        "X.add(5)\n",
        "print(X) #{0, 1, 2, 3, 4, 5}"
      ],
      "execution_count": null,
      "outputs": []
    },
    {
      "cell_type": "markdown",
      "metadata": {
        "id": "I5ORTDCFkUmi"
      },
      "source": [
        "## Sets are Unordered"
      ]
    },
    {
      "cell_type": "code",
      "metadata": {
        "id": "v00oDGWSkTdE"
      },
      "source": [
        "#Sets do not have an order.\n",
        "# cannot index or slice them."
      ],
      "execution_count": null,
      "outputs": []
    },
    {
      "cell_type": "code",
      "metadata": {
        "id": "XZjHev27keZX"
      },
      "source": [
        "X = {1, 2, 3, 4}\n",
        "X[0] #'set' object does not support indexing"
      ],
      "execution_count": null,
      "outputs": []
    },
    {
      "cell_type": "markdown",
      "metadata": {
        "id": "_1QSpfapkpRP"
      },
      "source": [
        "## Operations on Sets"
      ]
    },
    {
      "cell_type": "code",
      "metadata": {
        "id": "JiCBe5-sksT_"
      },
      "source": [
        "#Union:  X∪Y      X.union(Y)\n",
        "#Intersection:  X∩Y     X.intersection(Y)\n",
        "#Difference:  X−Y      X - Y"
      ],
      "execution_count": null,
      "outputs": []
    },
    {
      "cell_type": "code",
      "metadata": {
        "colab": {
          "base_uri": "https://localhost:8080/"
        },
        "id": "CKzHf2Idk6M_",
        "outputId": "b709334a-a5c0-4910-c395-a1e27df916c5"
      },
      "source": [
        "X = {1, 2, 3, 4}\n",
        "Y = {3, 4, 5}\n",
        "X.intersection(Y)  #{3, 4}\n",
        "X-Y  #{1, 2}\n",
        "X.union(Y) # {1, 2, 3, 4, 5, 6}"
      ],
      "execution_count": null,
      "outputs": [
        {
          "output_type": "execute_result",
          "data": {
            "text/plain": [
              "{1, 2, 3, 4, 5}"
            ]
          },
          "metadata": {
            "tags": []
          },
          "execution_count": 48
        }
      ]
    },
    {
      "cell_type": "markdown",
      "metadata": {
        "id": "0SmK3xDglXAF"
      },
      "source": [
        "# 1.5 Dictionaries"
      ]
    },
    {
      "cell_type": "code",
      "metadata": {
        "id": "U-L9Zo7elcWj"
      },
      "source": [
        "#dictionaries as arrays that help you assocaite a key with a value.\n",
        "#{key: value, key: value}                     {'a' : 0}\n",
        "# or dict([('key', value), ('key', value)])   dict([(1, 'a')])\n",
        "#Key/values can be  string/ numeric\n",
        "#Dictionaries are mutable, (can be changed) adict['g'] = 41"
      ],
      "execution_count": null,
      "outputs": []
    },
    {
      "cell_type": "code",
      "metadata": {
        "id": "T8dgzZPzmhGj"
      },
      "source": [
        "adict1 = {'a' : 0, 'b' : 1, 'c' : 2}\n",
        "adict2 = dict([(1, 'a'), (2, 'b'), (3, 'c')])\n",
        "print(adict1,adict2) #{'a': 0, 'b': 1, 'c': 2} {1: 'a', 2: 'b', 3: 'c'}\n",
        "print(type(adict1),type(adict2))   #<class 'dict'> <class 'dict'>\n",
        "print(adict1['b'],adict2[2])      #1 b"
      ],
      "execution_count": null,
      "outputs": []
    },
    {
      "cell_type": "code",
      "metadata": {
        "colab": {
          "base_uri": "https://localhost:8080/"
        },
        "id": "YHzUuvvm7P4m",
        "outputId": "f3b1b113-438c-40c1-c35d-b03f9fbaed47"
      },
      "source": [
        "#A pair of braces creates an empty dictionary: {}. Placing a comma-separated list of key\n",
        "tel = {'jack': 4098, 'sape': 4139}\n",
        "tel['guido']=4127 #adding a dict\n",
        "tel  #{'guido': 4127, 'jack': 4098, 'sape': 4139}\n",
        "tel['jack'] #findingjack- 4098\n",
        "\n",
        "#delete a key:value pair with del\n",
        "del tel['sape']\n",
        "tel #{'guido': 4127, 'jack': 4098}\n",
        "\n",
        "# list(d) on a dictionary returns a list of all the keys\n",
        "list(tel) #['jack', 'guido']\n",
        "\n",
        "#want it sorted, just use sorted(d)\n",
        "sorted(tel) #['guido', 'jack']\n",
        "\n",
        "# check and see\n",
        "'jack' not in tel #False"
      ],
      "execution_count": null,
      "outputs": [
        {
          "output_type": "execute_result",
          "data": {
            "text/plain": [
              "False"
            ]
          },
          "metadata": {},
          "execution_count": 28
        }
      ]
    },
    {
      "cell_type": "code",
      "metadata": {
        "colab": {
          "base_uri": "https://localhost:8080/"
        },
        "id": "NwlVTyCc8fwW",
        "outputId": "8eefd979-9df5-44db-802d-bea3f54d26fe"
      },
      "source": [
        "#dict() constructor builds dictionaries directly from sequences of key-value pairs\n",
        "dict([(\"jack\",100), (\"lily\", 3)]) #{'jack': 100, 'lily': 3}\n",
        "\n",
        "#specify pairs using keyword\n",
        "dict(jack=500, lily=9) #{'jack': 500, 'lily': 9}"
      ],
      "execution_count": null,
      "outputs": [
        {
          "output_type": "execute_result",
          "data": {
            "text/plain": [
              "{'jack': 500, 'lily': 9}"
            ]
          },
          "metadata": {},
          "execution_count": 31
        }
      ]
    }
  ]
}