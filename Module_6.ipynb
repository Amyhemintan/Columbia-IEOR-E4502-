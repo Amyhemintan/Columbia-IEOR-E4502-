{
  "nbformat": 4,
  "nbformat_minor": 0,
  "metadata": {
    "colab": {
      "name": "Module 6",
      "provenance": []
    },
    "kernelspec": {
      "name": "python3",
      "display_name": "Python 3"
    },
    "language_info": {
      "name": "python"
    }
  },
  "cells": [
    {
      "cell_type": "markdown",
      "metadata": {
        "id": "M_lDftuhb0_R"
      },
      "source": [
        "SQL"
      ]
    },
    {
      "cell_type": "markdown",
      "metadata": {
        "id": "rjQz_LiUcDlO"
      },
      "source": [
        "https://ssh.cloud.google.com/projects/tfa-2021-fall-pl2648/zones/us-east4-c/instances/instance-1?authuser=0&hl=en_US&projectNumber=858214067821&useAdminProxy=true&troubleshoot4005Enabled=true&troubleshoot255Enabled=true"
      ]
    },
    {
      "cell_type": "code",
      "metadata": {
        "id": "KFsBHw7_Rx3V"
      },
      "source": [
        "psql -d bank #pull out database\n",
        "bank=> \\dt \\dt+ \\1 #pull list of relations\n",
        "create database courses; # create a database call courses\n",
        "\\c courses # connect to courses\n",
        "\\c bank ; # connect to bank\n",
        "\\q #quit"
      ],
      "execution_count": null,
      "outputs": []
    },
    {
      "cell_type": "code",
      "metadata": {
        "id": "iGPOp135bQbG"
      },
      "source": [
        "select #start with\n",
        "* #all list\n",
        "from #from which list\n",
        "where # linking 2 ids\n",
        "order by # geting a order \n",
        "desc # descenting order\n",
        "limit # limit the number of row comes back\n",
        "like # looking up  Ilike lower case '%a%' 'p%'\n",
        "left join # join two table tgt\n",
        "group by # collapse on aggregate on\n",
        "; # end with\n",
        "\n",
        "PRESS up # copy form previous\n",
        "tab # completing keyword by itself\n",
        "ctrl l # like leave clear on the screen\n",
        "press up twice #to get back to the recent cell\n",
        "\n",
        "select count(id) from users;\n",
        "sum()\n",
        "avg()\n",
        "count() \n",
        "\n",
        "update:\n",
        "insert into     values\n",
        "update          set\n",
        "delete from     \n"
      ],
      "execution_count": null,
      "outputs": []
    },
    {
      "cell_type": "code",
      "metadata": {
        "id": "ci_pRENfbsV2"
      },
      "source": [
        "select name from users;\n",
        "select name, balance from users, accounts where users.id = accounts.user_id;"
      ],
      "execution_count": null,
      "outputs": []
    },
    {
      "cell_type": "code",
      "metadata": {
        "id": "awEs_9X0gL1m"
      },
      "source": [
        "#Easier way:\n",
        "select u.name, a.balance  #what is on the table\n",
        "from users u, accounts a \n",
        "where u.id = a.user_id #linking id tgt\n",
        "order by u.name, a.balance desc\n",
        "limit 2;"
      ],
      "execution_count": null,
      "outputs": []
    },
    {
      "cell_type": "code",
      "metadata": {
        "id": "eJnFvPYzjZFD"
      },
      "source": [
        "#no need to use all\n",
        "#for example to see what data is avalible\n",
        "select *\n",
        "form users\n",
        "limit 1;"
      ],
      "execution_count": null,
      "outputs": []
    },
    {
      "cell_type": "code",
      "metadata": {
        "id": "n33ldhWjlKWg"
      },
      "source": [
        "#look up \n",
        "select *\n",
        "from users\n",
        "where name like '%a%';"
      ],
      "execution_count": null,
      "outputs": []
    },
    {
      "cell_type": "code",
      "metadata": {
        "id": "gMW1G5VHrbij"
      },
      "source": [
        "# join and give back janet($0) left join sees the user name profilio\n",
        "select u.name, sum(a.balance)\n",
        "from users u\n",
        "left join accounts a on u.id = a.user_id\n",
        "group by u.id; \n"
      ],
      "execution_count": null,
      "outputs": []
    },
    {
      "cell_type": "code",
      "metadata": {
        "id": "wbovv3wIvuvK"
      },
      "source": [
        "#try to seperate input and output of sub SQL \n",
        "# and try to use join when nessessery \n",
        "select name\n",
        "from users\n",
        "where id in (\n",
        "    select id \n",
        "    from users\n",
        "    where name like '%P%'\n",
        ");"
      ],
      "execution_count": null,
      "outputs": []
    },
    {
      "cell_type": "code",
      "metadata": {
        "id": "iYsgGN7nzyl-"
      },
      "source": [
        "insert into users (id, name, join_date)\n",
        "values (500, 'carl', '2020-05-06');\n",
        "\n",
        "update users\n",
        "set name = 'chris'where id = 500;\n",
        "\n",
        "delect from users\n",
        "where id = 500;"
      ],
      "execution_count": null,
      "outputs": []
    }
  ]
}