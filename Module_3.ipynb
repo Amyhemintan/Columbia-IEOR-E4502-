{
  "nbformat": 4,
  "nbformat_minor": 0,
  "metadata": {
    "colab": {
      "name": "Module 3",
      "provenance": [],
      "collapsed_sections": [
        "xfZqT-Gmj7l2",
        "7narpl6Gnyz2",
        "UKZeBmM6bQJa",
        "tPzZ6HAhdkuO",
        "WoHUbDCCk0Ox",
        "nF47YtWRc-54",
        "r2s3xL1YfgfO",
        "_BYwMdbF4BkE",
        "ai49gWkZZ2ds",
        "Cj1hk2kbtiX3",
        "TTWp82JUvgLS",
        "q_EeDnFRyvjJ",
        "MghGzjDszm2I",
        "Uj62uhmi17OU"
      ]
    },
    "kernelspec": {
      "name": "python3",
      "display_name": "Python 3"
    },
    "language_info": {
      "name": "python"
    }
  },
  "cells": [
    {
      "cell_type": "markdown",
      "metadata": {
        "id": "LJ6IKStHziJ1"
      },
      "source": [
        "# 3.1Resursion"
      ]
    },
    {
      "cell_type": "code",
      "metadata": {
        "id": "PABpTOZTFEV0"
      },
      "source": [
        "# from the class\n",
        "# process of defining something in terms of itself\n",
        "#\"place two parallel mirrors facing each other\""
      ],
      "execution_count": null,
      "outputs": []
    },
    {
      "cell_type": "code",
      "metadata": {
        "id": "NyXpiCHbzmIC"
      },
      "source": [
        "#Two parts: \n",
        "#1)Recursive: decompose original problem into simpler instances(elf split to 2 houses)\n",
        "#2)base case: smallest instance (elf to each house)"
      ],
      "execution_count": null,
      "outputs": []
    },
    {
      "cell_type": "markdown",
      "metadata": {
        "id": "KD9CYh78326L"
      },
      "source": [
        "## Fibonacci - optimization"
      ]
    },
    {
      "cell_type": "code",
      "metadata": {
        "id": "22cUxej038C3"
      },
      "source": [
        "from functools import lru_cache\n",
        "@lru_cache(maxsize=None)\n",
        "def fi_re_op(n):\n",
        "  print('with n=',n)\n",
        "  #base case\n",
        "  if n==0:\n",
        "    return 0\n",
        "  elif n==1:\n",
        "    return 1\n",
        "  return fi_re_op(n-1) + fi_re_op(n-2)\n",
        "         \n",
        "print(fi_re_op(10))         \n",
        "\n",
        "\n"
      ],
      "execution_count": null,
      "outputs": []
    },
    {
      "cell_type": "markdown",
      "metadata": {
        "id": "Wifdra4q--6R"
      },
      "source": [
        "## Recursion"
      ]
    },
    {
      "cell_type": "code",
      "metadata": {
        "id": "CUdnU7i_--FQ"
      },
      "source": [
        "def dive(x):\n",
        "  if x>0:\n",
        "    print(f'x is {x} deeper')\n",
        "    dive(x-1) #resusive before its in the body of the function\n",
        "    print(f\"x was {x} going up\") #going back when hit x<0  \n",
        "  else:\n",
        "    print(f\"x is {x} turn around\")\n",
        "dive(2)"
      ],
      "execution_count": null,
      "outputs": []
    },
    {
      "cell_type": "markdown",
      "metadata": {
        "id": "gLM6F7OpBCoi"
      },
      "source": [
        "## resursion divisor"
      ]
    },
    {
      "cell_type": "code",
      "metadata": {
        "id": "IFAE_1xoERMt"
      },
      "source": [
        "def invalid_divisor(y):\n",
        "  try:\n",
        "    1/y\n",
        "    print(y)\n",
        "    return invalid_divisor(y-1)\n",
        "  except ZeroDivisionError:\n",
        "    return y\n",
        "invalid_divisor(3)"
      ],
      "execution_count": null,
      "outputs": []
    },
    {
      "cell_type": "markdown",
      "metadata": {
        "id": "BU69TelcFdRh"
      },
      "source": [
        "## Flatten"
      ]
    },
    {
      "cell_type": "code",
      "metadata": {
        "id": "iQWWbsaiFh8M"
      },
      "source": [
        "#takes a list of list and flattens into a single list "
      ],
      "execution_count": null,
      "outputs": []
    },
    {
      "cell_type": "code",
      "metadata": {
        "id": "D1vZFEm8Hima"
      },
      "source": [
        "def flatten(list_):\n",
        "    new_list=[]\n",
        "\n",
        "    for item in list_:\n",
        "       if isinstance(item, list):\n",
        "         print('pass in',item)\n",
        "         flat_inner = flatten(item)\n",
        "         print('handed out',flat_inner)\n",
        "         new_list.extend(flat_inner)\n",
        "\n",
        "    else:\n",
        "          new_list.append(item)\n",
        "\n",
        "    return new_list\n",
        "\n",
        "list_=[0,1,[[2,3],4],[5,6,[7,[8,[9]]]]]\n",
        "flatten(list_)\n",
        "\n",
        "   "
      ],
      "execution_count": null,
      "outputs": []
    },
    {
      "cell_type": "markdown",
      "metadata": {
        "id": "dsr0zBD2fH-e"
      },
      "source": [
        "# 3.2Regex"
      ]
    },
    {
      "cell_type": "code",
      "metadata": {
        "id": "McjgaS7afLFO"
      },
      "source": [
        "#a sequence of characters that forms a search pattern. \n",
        "#UNIX utilities: sed, awk, grep"
      ],
      "execution_count": null,
      "outputs": []
    },
    {
      "cell_type": "markdown",
      "metadata": {
        "id": "bqLFKVvugmCt"
      },
      "source": [
        "## plain matching and class matching"
      ]
    },
    {
      "cell_type": "code",
      "metadata": {
        "id": "G6uuNYLehGAd"
      },
      "source": [
        "# debag: pythex https://pythex.org/\n",
        "# word: super\n",
        "\n",
        "# range: t[aeiou]\n",
        "# number:[0-9]\n",
        "# 4 digit:[0-9][0-9][0-9][0-9]\n",
        "# letter: [a-zA-Z]ar ~ Far par\n",
        "\n",
        "# not letter/,/.: [^a-zA-Z] \n",
        "# ^not\n",
        "# [x]:[[][A-Z][]]\n",
        "# AC : A|C"
      ],
      "execution_count": null,
      "outputs": []
    },
    {
      "cell_type": "markdown",
      "metadata": {
        "id": "xfZqT-Gmj7l2"
      },
      "source": [
        "## Meta-charaters"
      ]
    },
    {
      "cell_type": "code",
      "metadata": {
        "id": "HwQlqWPRn57l"
      },
      "source": [
        "#shortcut"
      ],
      "execution_count": null,
      "outputs": []
    },
    {
      "cell_type": "code",
      "metadata": {
        "id": "u5mhHmEmkACa"
      },
      "source": [
        "# [aeiou].[aeiou]  ~a<a exa \n",
        "# [a-z]\\.[a-z]     ~e.c e.e (.)\n",
        "# \".               ~ \"A \"$\n",
        "#E\\w      w(word)         ~En\n",
        "#E\\W      w(not a word)         ~E-\n",
        "#\\d\\d\\d\\d  4numbers in a roll  ~1949\n",
        "#\\d\\D\\d   D inverse(not number)   ~3-3\n",
        "#\\s      not word (.,)\n",
        "#:\\s      :\n",
        "#\\s\\S\\S\\S\\S\\s   space19okspace \n",
        "#\\d[-\\s]  digit-or a space   ~3-3 9space\n",
        "#\\\\[0-9] ~\\5\n",
        "#\\\\\\d   ~\\5    \n"
      ],
      "execution_count": null,
      "outputs": []
    },
    {
      "cell_type": "markdown",
      "metadata": {
        "id": "7narpl6Gnyz2"
      },
      "source": [
        "## Anchors"
      ]
    },
    {
      "cell_type": "code",
      "metadata": {
        "id": "CYvJK6j_iKwP"
      },
      "source": [
        "#change a match happened start or end"
      ],
      "execution_count": null,
      "outputs": []
    },
    {
      "cell_type": "code",
      "metadata": {
        "id": "lXnCmGf5oDhn"
      },
      "source": [
        "#\\d: digit\n",
        "#\\w: a letter, a number or an underscore\n",
        "#\\s: not word, white space\n",
        "#\\D\\W\\S : opposite\n",
        "#(multiline mode)\n",
        "# ^ : beginning  (multine mode) or \\A\n",
        "# $ : at the end of the line  or \\Z\n",
        "# [] meaning input charater\n",
        "# \\b : word begin with letter[]   \n",
        "# []\\b: end with charater in word   (er\\b super after)\n",
        "# \\B[]\\B : opposite ^  (\\Ber\\B desert)\n",
        "#[^]: not \n",
        "\n"
      ],
      "execution_count": null,
      "outputs": []
    },
    {
      "cell_type": "code",
      "metadata": {
        "id": "JTSAEqCtoe4r"
      },
      "source": [
        "#c.r  ~cor cur\n",
        "#b\\w\\wr ~bear beer\n",
        "#\\w\\w\\w\\W\\d ~A3F:3 \n",
        "#ark\\s\\w\\w ~ark pa\n",
        "#\\w:\\\\\\w\\w\\w\\\\\\d\\d\\d ~ C:\\src\\123\n",
        "#^X ~Xspace   \\AX \n",
        "#\\.$  ~incapacing.  \\.\\Z\n",
        "#\\bf ~fack ~fake\n",
        "\n"
      ],
      "execution_count": null,
      "outputs": []
    },
    {
      "cell_type": "code",
      "metadata": {
        "id": "v-X4uPImZq4w"
      },
      "source": [
        "Review:\n",
        "# Multiline mode: Catch all\n",
        "# ^The or \\A (begin of the line)\n",
        "# red$ or red\\Z (end of the line)\n",
        "# car\\b  (end within boundary ) car\n",
        "# car\\B  (no longer match car) carpet"
      ],
      "execution_count": null,
      "outputs": []
    },
    {
      "cell_type": "markdown",
      "metadata": {
        "id": "UKZeBmM6bQJa"
      },
      "source": [
        "## Quantifiters"
      ]
    },
    {
      "cell_type": "code",
      "metadata": {
        "id": "1jCBsJNibVxO"
      },
      "source": [
        "# repetition in patterns is done with quantifiers\n",
        "four varieties:\n",
        "* (zero or more)  39*0 3990 30\n",
        "+ (one or more)   39+0 3990   Aa+ Aaaaaa\n",
        "? (zero or one )  39?0 30   Aa+? Aa   Aa? A/Aa   Aa?? A\n",
        "{m,n} (between m and n, inclusive) \\s\\d{2,7} 1949 1095"
      ],
      "execution_count": null,
      "outputs": []
    },
    {
      "cell_type": "code",
      "metadata": {
        "id": "92vOevJadpl-"
      },
      "source": [
        "Review\n",
        "67*3 67773 6773 673 63\n",
        "67+3 67773 6773 673\n",
        "67?3 673 63\n",
        "Greedy:    <.*> or -\\d+ or Aa?  <two>three<four> -77 Aa\n",
        "Not greedy:<.*?> or -\\d+? or Aa??  <two><four> -7 A\n",
        "B{3}  means 3 B   BBB\n",
        "B{2,4} 2 to 4 B    BB\n",
        "C{A}A no number take ittlally C{A}A\n",
        "B{3,4}? takes the less greedy version 3 B  BBB\n"
      ],
      "execution_count": null,
      "outputs": []
    },
    {
      "cell_type": "markdown",
      "metadata": {
        "id": "tPzZ6HAhdkuO"
      },
      "source": [
        "## Grouping"
      ]
    },
    {
      "cell_type": "code",
      "metadata": {
        "id": "n6SAVfcgdnWE"
      },
      "source": [
        "b([aeiou]+)   boo be\n",
        "grouping b and group of the vowels repeated one or more times \n",
        "\n",
        "b([aeiou])+   bo\n",
        "+ outside match once bo\n",
        "\n",
        "(\\w)\\1  aaaa nn\n",
        "backreference match with a preceding group\n",
        "\n",
        "\\b(\\w{3})\\b.*\\1\n",
        "\\b\\b : a word separated by space\n",
        "\\w : a letter, a number or an underscore\n",
        "{3}: repeat 3 times\n",
        ".* : consumes zero or more charaters\n",
        "\\1 : backreference to whatever was in the group\n",
        "you...you the...the\n"
      ],
      "execution_count": null,
      "outputs": []
    },
    {
      "cell_type": "code",
      "metadata": {
        "id": "IFsBESsfkCsv"
      },
      "source": [
        "#Review\n",
        "([aeiou])r      earth as\n",
        "([4-9])+        45200 45\n",
        "(the).*\\1       the train went down the (match the and the)"
      ],
      "execution_count": null,
      "outputs": []
    },
    {
      "cell_type": "markdown",
      "metadata": {
        "id": "5mZ2inEzkt3d"
      },
      "source": [
        "# 3.22 Python Regex"
      ]
    },
    {
      "cell_type": "markdown",
      "metadata": {
        "id": "WoHUbDCCk0Ox"
      },
      "source": [
        "## The python re Module"
      ]
    },
    {
      "cell_type": "code",
      "metadata": {
        "id": "bImaPGs1ktV3"
      },
      "source": [
        "#a sequence of characters that forms a search pattern. \n",
        "#used to check if a string contains the specified search pattern.\n",
        "re.Match   \"truthy\" boolean (seee if is true)"
      ],
      "execution_count": null,
      "outputs": []
    },
    {
      "cell_type": "code",
      "metadata": {
        "colab": {
          "base_uri": "https://localhost:8080/"
        },
        "id": "_NmGbtCPZ-Uz",
        "outputId": "0dd73339-de28-4715-e512-e6ccd6ff8c90"
      },
      "source": [
        "import re\n",
        "question='Lovely spam! Wonderful spam!'\n",
        "re.search('spam',question) #span=(7,11),match='spam'\n",
        "match=re.search('spam',question)\n",
        "match.start() #7"
      ],
      "execution_count": null,
      "outputs": [
        {
          "output_type": "execute_result",
          "data": {
            "text/plain": [
              "7"
            ]
          },
          "metadata": {
            "tags": []
          },
          "execution_count": 4
        }
      ]
    },
    {
      "cell_type": "markdown",
      "metadata": {
        "id": "nF47YtWRc-54"
      },
      "source": [
        "## Accessing group"
      ]
    },
    {
      "cell_type": "code",
      "metadata": {
        "id": "m3L-RjSydDE5"
      },
      "source": [
        "re.Match :contains attributes and methods providing details about a match\n",
        ".group (*args) \n",
        ".groups\n",
        ".start()\n",
        ".end()\n",
        ".expand(template)  #like .find\n",
        ".span()"
      ],
      "execution_count": null,
      "outputs": []
    },
    {
      "cell_type": "code",
      "metadata": {
        "colab": {
          "base_uri": "https://localhost:8080/",
          "height": 35
        },
        "id": "3-8G9qG0d03j",
        "outputId": "f22e1a1d-54ad-4c3b-c185-7b2125fe24c2"
      },
      "source": [
        "import re\n",
        "match=re.search(r'(\\w+),(\\w+)',\"one,two,three\")\n",
        "match.groups() #('one', 'two')\n",
        "match[0] #one,two\n",
        "match.group(1) #one\n",
        "match.expand('second was\"\\\\2\", first was \"\\\\1\"') #second was\"two\", first was \"one\"\n"
      ],
      "execution_count": null,
      "outputs": [
        {
          "output_type": "execute_result",
          "data": {
            "application/vnd.google.colaboratory.intrinsic+json": {
              "type": "string"
            },
            "text/plain": [
              "'second was\"two\", first was \"one\"'"
            ]
          },
          "metadata": {
            "tags": []
          },
          "execution_count": 9
        }
      ]
    },
    {
      "cell_type": "code",
      "metadata": {
        "colab": {
          "base_uri": "https://localhost:8080/"
        },
        "id": "wUGEt6LRfrUM",
        "outputId": "867be6bc-c5bf-4d55-c4c0-83eaf61f9ea7"
      },
      "source": [
        "#Backslashe : esape charathers\n",
        "#Searching for an actual backslash requires it to be escaped twice\n",
        "re.search(\"\\w+\\\\\\\\eight\",\"one\\\\eight\") #span=(0, 9), match='one\\\\eight'>\n",
        "#raw strings: r, no escaping \n",
        "re.search(r\"\\w+\\\\\\w+\",r\"one\\two\")  #span=(0, 7), match='one\\\\two'>"
      ],
      "execution_count": null,
      "outputs": [
        {
          "output_type": "execute_result",
          "data": {
            "text/plain": [
              "<re.Match object; span=(0, 7), match='one\\\\two'>"
            ]
          },
          "metadata": {
            "tags": []
          },
          "execution_count": 15
        }
      ]
    },
    {
      "cell_type": "markdown",
      "metadata": {
        "id": "r2s3xL1YfgfO"
      },
      "source": [
        "## Named group"
      ]
    },
    {
      "cell_type": "code",
      "metadata": {
        "id": "UgMYJQadkhu9"
      },
      "source": [
        ">>> import re\n",
        ">>> content = \"I count like this: one, two, three\"\n",
        ">>> match = re.search(r\"(\\w+), (\\w+), (\\w+)\", content)\n",
        ">>> match\n",
        "#re.Match object; span=(19, 34), match='one, two, three'>\n",
        ">>> match.groups()\n",
        "('one', 'two', 'three')\n",
        ">>> match = re.search(r\"(?P<first>\\w+), (?P<second>\\w+), (?P<third>\\w+)\", content)\n",
        ">>> match.groups()\n",
        "('one', 'two', 'three')\n",
        ">>> match.groupdict()\n",
        "{'first': 'one', 'second': 'two', 'third': 'three'}"
      ],
      "execution_count": null,
      "outputs": []
    },
    {
      "cell_type": "code",
      "metadata": {
        "id": "B_5GR6bf4HHw"
      },
      "source": [
        "#reviewing named & non-capturing groups\n",
        "(?p<digits>\\d+) --looking for digits 123\n",
        "(?p<digits>\\d+).*(?p=digits) --12 same as^\n",
        "(?:)--noncapturing group\n",
        "(a)(?:r)(e) --are -a and e\n"
      ],
      "execution_count": null,
      "outputs": []
    },
    {
      "cell_type": "markdown",
      "metadata": {
        "id": "_BYwMdbF4BkE"
      },
      "source": [
        "## Substituting, splitting, and escaping"
      ]
    },
    {
      "cell_type": "code",
      "metadata": {
        "id": "X-hkboV-5TNm"
      },
      "source": [
        "#@title\n",
        "#Python regex functions for regular expression\n",
        "re.search() --looks for within the string\n",
        "re.match() ---looks for  begin the string\n",
        "re.fullmatch() --fullmatch\n",
        "re.findall() --- returns a list of the match \n",
        "re.finditer()---returns a iterator\n",
        "#subtitution\n",
        "re.sub()\n",
        "re.subn()\n",
        "#utility functions:\n",
        "re.split()\n",
        "re.escape() --2^2\n"
      ],
      "execution_count": null,
      "outputs": []
    },
    {
      "cell_type": "code",
      "metadata": {
        "id": "y7oPoWiX6pOc"
      },
      "source": [
        "import re\n",
        "content='my favo number are 13 and 42'\n",
        "re.sub(r\"\\d+\",\"#\",content) #my favo number are # and #\n",
        "re.sub(r\"\\d+\",\"#\",content,count=1) #my favo number are # and 42\n",
        "#reverses 13 = 31 \n",
        "def reverse(match):\n",
        "  return match.group(0)[::-1]\n",
        "re.sub(r\"\\d+\",reverse, content) #my favo number are 31 and 24\n",
        "#sub\n",
        "re.sub(\"x*\", \"-\", \"spam\") #-s-p-a-m-\n",
        "re.subn(\"x*\", \"-\", \"spam\") #('-s-p-a-m-', 5)\n",
        "#split\n",
        "re.subn(\"x*\", \"-\", \"spam\") #('-s-p-a-m-', 5)\n",
        "#split\n",
        "re.split(r\"\\d+\", \"My favorite numbers are 13 and 42.\")#['My favorite numbers are ', ' and ', '.']\n",
        "#escape    regex escape charaters\n",
        "regex= re.escape(\"2^4\")\n",
        "regex #2\\^4\n",
        "re.findall(regex,\"even more than 2^2 is 2^4\") #['2^4']"
      ],
      "execution_count": null,
      "outputs": []
    },
    {
      "cell_type": "markdown",
      "metadata": {
        "id": "ai49gWkZZ2ds"
      },
      "source": [
        "## Flags"
      ]
    },
    {
      "cell_type": "code",
      "metadata": {
        "id": "yrNxDnkgZ1uB"
      },
      "source": [
        "#short flag and long flag\n",
        "re.I re.IGNORECASE Makes matching of alphabetic characters case insensitive\n",
        "re.M re.MULTILINE Causes ^ and $ anchors to match embedded newlines\n",
        "re.S re.DOTALL Causes dot meta-character to match a newline\n",
        "re.X re.VERBOSE Allows whitespace and comments within regex\n",
        "re.DEBUG Debug information is printed to console\n",
        "re.A re.ASCII Use ASCII encoding for character classification\n",
        "re.U re.UNICODE Use Unicode encoding for character classification (default in Python 3)\n",
        "re.L re.LOCALE Use current locale to determine encoding for character classification\n"
      ],
      "execution_count": null,
      "outputs": []
    },
    {
      "cell_type": "code",
      "metadata": {
        "id": "XxIvWTYxaHnl"
      },
      "source": [
        "import re\n",
        "re.search(\"a+\", \"AAA\", re.IGNORECASE) #span=(0, 3), match='AAA'\n",
        "re.search(\"^I\", \"Yes you did, no\\nI didn't\", re.MULTILINE) #span=(16, 17), match='I'\n",
        "re.search(\"1.2\", \"First 1\\n2 next\", re.DOTALL) #span=(6, 9), match='1\\n2'\n",
        "phone = re.compile(PHONE_REGEX, re.VERBOSE)\n",
        "phone.match('1 (416) 967-1111') #span=(0, 16), match='1 (416) 967-1111'\n",
        "re.search(\"(spam.){three}\", vikings, re.DEBUG)\n",
        "#short flag   (?im)=ignore and multiline\n",
        "re.search(\"^i\", \"Yes you did, no\\nI didn't\", re.MULTILINE | re.IGNORECASE)\n",
        "re.search(\"(?im)^i\", \"Yes you did, no\\nI didn't\")\n"
      ],
      "execution_count": null,
      "outputs": []
    },
    {
      "cell_type": "markdown",
      "metadata": {
        "id": "EyLuU79ntP1h"
      },
      "source": [
        "## Summary for regular expressions and building regexes in Python"
      ]
    },
    {
      "cell_type": "markdown",
      "metadata": {
        "id": "Cj1hk2kbtiX3"
      },
      "source": [
        "### REGEX LANGUAGE FEATURES"
      ]
    },
    {
      "cell_type": "code",
      "metadata": {
        "id": "avciGUEntca-"
      },
      "source": [
        "# Plain matching\n",
        "re.search(\"spam\", \"Green eggs and spam\") #span=(15, 19), match='spam'\n",
        "\n",
        "#Class matching\n",
        "re.search(\"[0-9]\", \"I live at the 2nd house\") #span=(14, 15), match='2'\n",
        "\n",
        "#meta-characters\n",
        "re.search(\"\\s\\d\\w+\", \"I live at the 2nd house\") #span=(13, 17), match=' 2nd'\n",
        "\n",
        "#anchors\n",
        "#re.search(\"^My\", “Hello\\nMy name is George\", re.MULTILINE) #span=(6, 8), match='My'>\n",
        "\n",
        "#quantifiers\n",
        "match = re.search(r\"\\d+\", \"My phone number is 555-1212\")\n",
        "match #span=(19, 22), match='555'\n",
        "\n",
        "#grouping\n",
        "match = re.search(r\"(\\d+)\", \"My phone number is 555-1212\")\n",
        "match.groups() #('555',)\n"
      ],
      "execution_count": null,
      "outputs": []
    },
    {
      "cell_type": "markdown",
      "metadata": {
        "id": "TTWp82JUvgLS"
      },
      "source": [
        "### Python re module"
      ]
    },
    {
      "cell_type": "code",
      "metadata": {
        "id": "gRKfKx_Ouz10"
      },
      "source": [
        "#python's regex matching function:\n",
        "● re.search() \n",
        "● re.match() \n",
        "● re.fullmatch() \n",
        "● re.findall() \n",
        "● re.finditer()"
      ],
      "execution_count": null,
      "outputs": []
    },
    {
      "cell_type": "markdown",
      "metadata": {
        "id": "q_EeDnFRyvjJ"
      },
      "source": [
        "### THE re.Match OBJECT"
      ]
    },
    {
      "cell_type": "code",
      "metadata": {
        "id": "9nemJpn5y14U"
      },
      "source": [
        "#Matching functions return an re.Match object\n",
        "● .group() \n",
        "● .groups() \n",
        "● .groupdict() \n",
        "● .expand() \n",
        "● .start() ^\n",
        "● .end()  $\n",
        "● .span()"
      ],
      "execution_count": null,
      "outputs": []
    },
    {
      "cell_type": "code",
      "metadata": {
        "id": "pAdEGk6ZzGdA"
      },
      "source": [
        "#Match objects with groups can also be accessed with indexing\n",
        "match = re.search(\"(\\d+)\", \"My phone number is 555-1212\")\n",
        "match.groups() #('555')\n",
        "match[1] #555"
      ],
      "execution_count": null,
      "outputs": []
    },
    {
      "cell_type": "markdown",
      "metadata": {
        "id": "MghGzjDszm2I"
      },
      "source": [
        "### Named groups"
      ]
    },
    {
      "cell_type": "code",
      "metadata": {
        "id": "vu3heV5wzqnH"
      },
      "source": [
        "#Name a group with (?P<name>regex)\n",
        "match = re.search(r\"(?P<prefix>\\d{3})-(?P<lineno>\\d{4})\", \"555-1212\")\n",
        "match.groupdict() #{'lineno': '1212', 'prefix': '555'}"
      ],
      "execution_count": null,
      "outputs": []
    },
    {
      "cell_type": "code",
      "metadata": {
        "id": "pRz1SpuOztDM"
      },
      "source": [
        "#Back reference with \\# or (?P=name)\n",
        "re.search(r\"(?P<twice>\\d\\d)-\\1\", \"314 44-44 94\") #span=(4, 9), match='44-44'\n",
        "re.search(r\"(?P<twice>\\d\\d)-(?P=twice)\", \"314 44-44 94\") # span=(4, 9), match='44-44'>\n"
      ],
      "execution_count": null,
      "outputs": []
    },
    {
      "cell_type": "markdown",
      "metadata": {
        "id": "Uj62uhmi17OU"
      },
      "source": [
        "### More REGEX FUNCTIONs"
      ]
    },
    {
      "cell_type": "code",
      "metadata": {
        "id": "TwUekzWP2AoM"
      },
      "source": [
        "#Substitution\n",
        "re.sub() \n",
        "re.subn()"
      ],
      "execution_count": null,
      "outputs": []
    },
    {
      "cell_type": "code",
      "metadata": {
        "id": "GbRgieZy2IQk"
      },
      "source": [
        "#Utility functions\n",
        "re.split() \n",
        "re.escape()\n"
      ],
      "execution_count": null,
      "outputs": []
    },
    {
      "cell_type": "markdown",
      "metadata": {
        "id": "H8Ai93mW2XhX"
      },
      "source": [
        "### Flags"
      ]
    },
    {
      "cell_type": "code",
      "metadata": {
        "id": "4WapZexY2aFr"
      },
      "source": [
        "#Flags modify the behavior of the regex\n",
        "re.search(\"A\", \"My name is Bob\", re.IGNORECASE) #span=(4, 5), match='a'>\n",
        "\n",
        "#Supported flags:\n",
        "● re.IGNORECASE / re.I \n",
        "● re.MULTILINE / re.M \n",
        "● re.DOTALL / re.S #changing behavior of a period to include new line\n",
        "● re.VERBOSE / re.X #making easier to read\n",
        "● re.DEBUG \n",
        "● re.ASCII / re.A\n",
        "● re.UNICODE / re.U  #phython 3 #changing the style of character encoding user inside\n",
        "● re.LOCALE / re.L"
      ],
      "execution_count": null,
      "outputs": []
    },
    {
      "cell_type": "markdown",
      "metadata": {
        "id": "li96wKOhKSB3"
      },
      "source": [
        "# Regex from video"
      ]
    },
    {
      "cell_type": "code",
      "metadata": {
        "id": "GltW4nujKUOz"
      },
      "source": [
        "Regex from video\n",
        "[53]\n",
        "import re\n",
        "#use r for raw string\n",
        "print(r\"\\\\\")  #\\\\ \n",
        "print(\"\\\\\")   # \\\n",
        "\n",
        "\n",
        "^ begin\n",
        "$ end\n"
      ],
      "execution_count": null,
      "outputs": []
    },
    {
      "cell_type": "code",
      "metadata": {
        "id": "bujy5BDIKdz0"
      },
      "source": [
        "pattern = r'is my number'\n",
        "string = \"This is my number 111-456-7890... Gimme a ring.\"\n",
        "match = re.search(pattern, string)\n",
        "match #span=(5, 17), match='is my number'"
      ],
      "execution_count": null,
      "outputs": []
    },
    {
      "cell_type": "code",
      "metadata": {
        "id": "vG-4HZqTKhHx"
      },
      "source": [
        "* zero or more\n",
        "+ 1 or more\n",
        "{} specific number \n",
        "[]+ match several charaters at a time and a space\n",
        "\\w+  is [a-zA-Z0-9_] with no space\n",
        "\\W+  is the inverse or use ^\n",
        "\\d+  [0-9]\n",
        "\\D+  not a number\n",
        "\\s+  whitespace [ \\t\\n\\r\\f\\v]\n",
        "\\S+  non-emtry space"
      ],
      "execution_count": null,
      "outputs": []
    },
    {
      "cell_type": "code",
      "metadata": {
        "id": "CvGMwM1UKlJh"
      },
      "source": [
        "pattern = r'GCA{2}'\n",
        "string = 'ATGCGCATTTTGCAAAGATTTCCAAGAGAGTTT'\n",
        "match = re.search(pattern, string)\n",
        "match \n",
        "#r'GCA*'   span=(2, 4), match='GC' zero or more of a\n",
        "#r'GCA+'   span=(4, 7), match='GCA'\n",
        "#r'GCA{2}' span=(11, 15), match='GCAA'\n",
        "\n",
        "pattern = r'\\S+'\n",
        "string = \"This is my number 111-456-7890... Gimme a ring.\"\n",
        "match = re.search(pattern, string)\n",
        "match \n",
        "#r'[a-zA-Z ]+'   span=(0, 18), match='This is my number '\n",
        "#r'[-0-9-]+'     span=(18, 30), match='111-456-7890'>\n",
        "#r'\\w+'          span=(0, 4), match='This'  \n",
        "#r'\\W+'          span=(4, 5), match=' '  #match the first empty space\n",
        "#r'\\d+'          span=(18, 21), match='111'\n",
        "#r'\\D+'          span=(0, 18), match='This is my number '\n",
        "#r'\\s+'          span=(4, 5), match=' '\n",
        "#r'\\S+'          span=(0, 4), match='This'"
      ],
      "execution_count": null,
      "outputs": []
    },
    {
      "cell_type": "code",
      "metadata": {
        "id": "JCLF2Y9sKqGs"
      },
      "source": [
        "#token re.findall\n",
        "pattern = r'\\S+'\n",
        "string = \"This is my number 111-456-7890... Gimme a ring.\"\n",
        "re.findall(pattern, string)\n",
        "#['This', 'is', 'my', 'number', '111-456-7890...', 'Gimme', 'a', 'ring.']"
      ],
      "execution_count": null,
      "outputs": []
    },
    {
      "cell_type": "code",
      "metadata": {
        "id": "Y8U4Z0zzKqAV"
      },
      "source": [
        "#example (phone number)\n",
        "PHONE_NUMBERS = \n",
        "(444) 456-7890  \n",
        "#re.compile(r'^\\D*(\\d{3})\\D*(\\d{3})\\D*(\\d{4})$')\n",
        "'+1-877-kid-CARS'\n",
        "match.groups()\n",
        "#r'(1)?-?(\\w{3})-(\\w{3})-(\\w{4})'\n",
        "\n"
      ],
      "execution_count": null,
      "outputs": []
    },
    {
      "cell_type": "code",
      "metadata": {
        "id": "uxNp2p0mO4m4"
      },
      "source": [
        "#Example (Verbose Mode)\n",
        "#name the group ?P<>  uppercase!\n",
        "pattern = r'''\n",
        "   ^\n",
        "   (?P<first_name>[a-z-]+)\n",
        "   \\s+ \n",
        "   (?P<last_name>[a-z-]+)\n",
        "   $\n",
        "'''\n",
        "string = \"mary-jo lue-ellen\"\n",
        "flags= (\n",
        "    re.IGNORECASE |\n",
        "    re.VERBOSE\n",
        ")\n",
        "\n",
        "match= re.match(pattern, string, flags=flags)\n",
        "\n",
        "print(match.groups()) #('mary-jo', 'lue-ellen')\n",
        "print(match.group('first_name')) #mary-jo"
      ],
      "execution_count": null,
      "outputs": []
    },
    {
      "cell_type": "markdown",
      "metadata": {
        "id": "-FX9CuqJn_vW"
      },
      "source": [
        "# 3.3 OOP Object Oriented programming"
      ]
    },
    {
      "cell_type": "code",
      "metadata": {
        "id": "EnW-IEPjoc76"
      },
      "source": [
        "OOP --complex software in terms of real-world objects and relationship to one and other\n",
        "Object: the \"thing\"    class dog / class parent and baby\n",
        "Properties: name age   __init__(self,name,age)\n",
        "Behaviors:(method) walk talk    speak()\n",
        "properties: __init__()\n",
        ". is the operator\n",
        "first parameter: variable  self"
      ],
      "execution_count": null,
      "outputs": []
    },
    {
      "cell_type": "code",
      "metadata": {
        "id": "fHugd1nWqcmP"
      },
      "source": [
        "class dog:\n",
        "  species=\"mammal\"\n",
        "\n",
        "  def __init__(self, name, age):\n",
        "    self.name=name\n",
        "    self.age=age\n",
        "\n",
        "  def description(self):\n",
        "    return\"{} is {} years old\".format(self.name,self.age)\n",
        "\n",
        "  def speak(self,sound):\n",
        "    return\"{} says {}\".format(self.name, sound)\n",
        "\n",
        "  def birthday(self):\n",
        "    self.age +=1\n",
        "  \n",
        "mikey = dog(\"mikey\",6)\n",
        "print(mikey.description()) #mikey is 6 years old\n",
        "print(mikey.speak(\"gulff!\")) #mikey says gulff!\n",
        "mikey.birthday()   #pass thought the code\n",
        "print(mikey.description()) #mikey is 7 years old\n"
      ],
      "execution_count": null,
      "outputs": []
    },
    {
      "cell_type": "code",
      "metadata": {
        "id": "GMKfJDke2xsh"
      },
      "source": [
        "Object inheritance\n",
        "child class implements the parent's attribute and methods\n"
      ],
      "execution_count": null,
      "outputs": []
    },
    {
      "cell_type": "code",
      "metadata": {
        "id": "462mUK243C3q"
      },
      "source": [
        "class Person: #parent class \n",
        "  description =\"general person\"\n",
        "\n",
        "class Baby(Person): #child class\n",
        "  desription=\"baby\"\n",
        "\n",
        "  def speak(self):   # edit for behavior\n",
        "    print(\"ba ba ba\")\n",
        "  def nap(self):   # excusive functionality\n",
        "    print(\"{} takes a nap\".format(self.name))\n",
        "\n",
        "person= person(\"steve\", 20)\n",
        "\n",
        "baby = baby('ian',1)\n",
        "baby.speak()   #bababa\n",
        "baby.eat(\"baby food\") #baby food\n",
        "baby.action()  # same as parent group jump\n",
        "\n",
        "print(baby.description) #baby\n",
        "print(isinstance(baby,person)) #True\n",
        "print(isinstance(baby,object)) #true\n",
        "\n"
      ],
      "execution_count": null,
      "outputs": []
    },
    {
      "cell_type": "markdown",
      "metadata": {
        "id": "_OAfq5Du5WbI"
      },
      "source": [
        "## OOP from the video"
      ]
    },
    {
      "cell_type": "code",
      "metadata": {
        "id": "5V-FNuNM5a1Y"
      },
      "source": [
        "Four pillars of oop\n",
        "Abstraction:(only name food for dating)\n",
        "interact only data/methods need. everything else hide\n",
        "\n",
        "Encasulation: (dog private method bark())\n",
        "Data/functions operatre on the data live together\n",
        "\n",
        "Inheritance: (baby nap())\n",
        "creating new child class and only overiding what needs to change\n",
        "\n",
        "Polymorphism: (subclass (mammal sound ( dog-barks)))\n",
        "objects can share method names with objects of separate classes and act like those class\n"
      ],
      "execution_count": null,
      "outputs": []
    },
    {
      "cell_type": "code",
      "metadata": {
        "id": "vZP047u0_db5"
      },
      "source": [
        "#Basic methods\n",
        "class Car:\n",
        "  def go(self):\n",
        "    print(\"drive ahead\")\n",
        "    return \"traveled x kilo\"\n",
        "    \n",
        "C= Car()\n",
        "C.go() #drive ahead traveled x kilo\n",
        "\n"
      ],
      "execution_count": null,
      "outputs": []
    },
    {
      "cell_type": "code",
      "metadata": {
        "id": "ZKWZVNdwDTm6"
      },
      "source": [
        "# Multiple instance Bankaccount example:\n",
        "class Bankaccount:\n",
        "  def __init__(self,init_balance): \n",
        "    self.balance=init_balance  # balance override init balance\n",
        "  \n",
        "  def deposite(self, money): \n",
        "    self.balance += money\n",
        "  \n",
        "  def withdraw(self, money):\n",
        "    if self.balance < money:\n",
        "      raise ValueError(\"Not enough money\") \n",
        "    self.balance -= money\n",
        "\n",
        "b= Bankaccount (10)\n",
        "b.deposite(10) #20\n",
        "print(b.balance)\n",
        "b.withdraw(25) #ValueError(\"Not enough money\") \n",
        "print(b.balance)"
      ],
      "execution_count": null,
      "outputs": []
    },
    {
      "cell_type": "code",
      "metadata": {
        "id": "TJ5Ada0pH0wF"
      },
      "source": [
        "#Magic methods\n",
        "def withdraw(self,money):\n",
        "  self.set_balance(self.set_balance()-money) #put ()to protect\n"
      ],
      "execution_count": null,
      "outputs": []
    },
    {
      "cell_type": "code",
      "metadata": {
        "id": "jTAoqjUmJ3Fo"
      },
      "source": [
        "class car:\n",
        "  def __init__(self, cost):\n",
        "    self.cost=cost\n",
        "\n",
        "  def __str__(self):\n",
        "    return f\"car : ${self.cost}\"\n",
        "\n",
        "  def __repr__(self):\n",
        "    return f\"<car {hex(id(self))}/${self.cost}>\"\n",
        "\n",
        "c=car(10000)\n",
        "print(str(c)) #$10000\n",
        "print(c)  #$10000\n",
        "print(repr(c)) #<car 0x7f2d4412f410/$10000>"
      ],
      "execution_count": null,
      "outputs": []
    },
    {
      "cell_type": "code",
      "metadata": {
        "id": "8rsxoFGTH23W"
      },
      "source": [
        "# Subclassing\n",
        "class coupe(car):\n",
        "  def honk(self):\n",
        "    return_value = super().honk()\n",
        "    return return_value+ \" ahooga\""
      ],
      "execution_count": null,
      "outputs": []
    }
  ]
}