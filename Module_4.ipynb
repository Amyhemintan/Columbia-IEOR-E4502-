{
  "nbformat": 4,
  "nbformat_minor": 0,
  "metadata": {
    "colab": {
      "name": "Module 4",
      "provenance": []
    },
    "kernelspec": {
      "name": "python3",
      "display_name": "Python 3"
    },
    "language_info": {
      "name": "python"
    }
  },
  "cells": [
    {
      "cell_type": "markdown",
      "metadata": {
        "id": "Kg030LzbYAQi"
      },
      "source": [
        "# Binary search"
      ]
    },
    {
      "cell_type": "code",
      "metadata": {
        "id": "nrF6qeJfm8jp"
      },
      "source": [
        "def binary_search(x,data):\n",
        "  if not data:\n",
        "    return False\n",
        "\n",
        "    mid_index = len(data)//2\n",
        "    mid_val = data[mid_index]\n",
        "\n",
        "    if mid_value == x:\n",
        "      return True\n",
        "\n",
        "    elif mid_value < x:\n",
        "      data_after_mid = data[mid_index + 1:]\n",
        "      return binary_search(x, data_after_mid)\n",
        "\n",
        "    elif mid_value > x:\n",
        "      data_before_mid = data[: mid_index]\n",
        "      return binary_search(x, data_before_mid)\n",
        "\n",
        "    return False\n",
        "\n",
        "binary_search(14,list(range(10)))  #True\n"
      ],
      "execution_count": null,
      "outputs": []
    },
    {
      "cell_type": "markdown",
      "metadata": {
        "id": "4J87yVfXXieB"
      },
      "source": [
        "# Bubble sort"
      ]
    },
    {
      "cell_type": "code",
      "metadata": {
        "id": "5UA4WwpoXmDI"
      },
      "source": [
        " Repeatedly swapping the adjacent elements if they are in wrong order."
      ],
      "execution_count": null,
      "outputs": []
    },
    {
      "cell_type": "code",
      "metadata": {
        "colab": {
          "base_uri": "https://localhost:8080/"
        },
        "id": "VHq5RfGgXwt3",
        "outputId": "bf423bec-026e-4d42-fce8-0c076c9672e8"
      },
      "source": [
        "def bubble_sort(items):\n",
        "  for i in range(len(items)):\n",
        "      already_sorted = True\n",
        "      for j in range((len(items))-i-1):\n",
        "           if items[j] > items[j+1]:\n",
        "              items[j], items[j+1] = items[j+1], items[j]\n",
        "              already_sorted = False\n",
        "      if already_sorted:\n",
        "          break\n",
        "  return items\n",
        "\n",
        "items=[1,5,6,9,3,4,2]\n",
        "bubble_sort(items)"
      ],
      "execution_count": null,
      "outputs": [
        {
          "output_type": "execute_result",
          "data": {
            "text/plain": [
              "[1, 2, 3, 4, 5, 6, 9]"
            ]
          },
          "metadata": {},
          "execution_count": 8
        }
      ]
    }
  ]
}