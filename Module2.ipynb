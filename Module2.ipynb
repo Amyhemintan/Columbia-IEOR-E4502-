{
  "nbformat": 4,
  "nbformat_minor": 0,
  "metadata": {
    "colab": {
      "name": "Module2",
      "provenance": [],
      "collapsed_sections": [
        "psx5TV-6sr_n",
        "NN__8KetyN9z",
        "LdFQ_T_ZhZAV",
        "1uhAoUDejHiD"
      ],
      "toc_visible": true
    },
    "kernelspec": {
      "name": "python3",
      "display_name": "Python 3"
    },
    "language_info": {
      "name": "python"
    }
  },
  "cells": [
    {
      "cell_type": "markdown",
      "metadata": {
        "id": "BuOSJWjLFHSi"
      },
      "source": [
        "# 2.2 Comprehensions\n"
      ]
    },
    {
      "cell_type": "code",
      "metadata": {
        "id": "lPlBJVIy1-OU"
      },
      "source": [
        "\n",
        "#*A tuple is a collection which is ordered and unchangeable. "
      ],
      "execution_count": null,
      "outputs": []
    },
    {
      "cell_type": "code",
      "metadata": {
        "colab": {
          "base_uri": "https://localhost:8080/"
        },
        "id": "sJRdt6Aa6myv",
        "outputId": "66867ccb-82cc-4e26-b8f0-a6b555053576"
      },
      "source": [
        "[i + 1 for i in range(10)] #squish the for loop into a single line"
      ],
      "execution_count": null,
      "outputs": [
        {
          "output_type": "execute_result",
          "data": {
            "text/plain": [
              "[1, 2, 3, 4, 5, 6, 7, 8, 9, 10]"
            ]
          },
          "metadata": {
            "tags": []
          },
          "execution_count": 4
        }
      ]
    },
    {
      "cell_type": "code",
      "metadata": {
        "colab": {
          "base_uri": "https://localhost:8080/"
        },
        "id": "nvsKcKuh7D-k",
        "outputId": "1be3b4bd-461b-41d6-9241-90484d36fd68"
      },
      "source": [
        "list(range(10))"
      ],
      "execution_count": null,
      "outputs": [
        {
          "output_type": "execute_result",
          "data": {
            "text/plain": [
              "[0, 1, 2, 3, 4, 5, 6, 7, 8, 9]"
            ]
          },
          "metadata": {
            "tags": []
          },
          "execution_count": 5
        }
      ]
    },
    {
      "cell_type": "code",
      "metadata": {
        "colab": {
          "base_uri": "https://localhost:8080/"
        },
        "id": "etgWPGGZ7KPU",
        "outputId": "c7ce2896-cbb2-4d44-a668-af7075e080de"
      },
      "source": [
        "[i**3 for i in range(10)]"
      ],
      "execution_count": null,
      "outputs": [
        {
          "output_type": "execute_result",
          "data": {
            "text/plain": [
              "[0, 1, 8, 27, 64, 125, 216, 343, 512, 729]"
            ]
          },
          "metadata": {
            "tags": []
          },
          "execution_count": 6
        }
      ]
    },
    {
      "cell_type": "code",
      "metadata": {
        "colab": {
          "base_uri": "https://localhost:8080/"
        },
        "id": "Evwqiuve7RLx",
        "outputId": "5f6fe93a-5285-4ebc-d178-c0b3407af048"
      },
      "source": [
        "[x for x in range(10) if x%2] #conditionals can addes at the end"
      ],
      "execution_count": null,
      "outputs": [
        {
          "output_type": "execute_result",
          "data": {
            "text/plain": [
              "[1, 3, 5, 7, 9]"
            ]
          },
          "metadata": {
            "tags": []
          },
          "execution_count": 7
        }
      ]
    },
    {
      "cell_type": "code",
      "metadata": {
        "colab": {
          "base_uri": "https://localhost:8080/"
        },
        "id": "Xl3OJhp67jZc",
        "outputId": "b6f31b3b-2d6d-4b26-c3c0-516b98c451ac"
      },
      "source": [
        "new_list = []\n",
        "for x in range(3):\n",
        "    for y in range(2):\n",
        "        new_list.append((\"x\"+str(x),\"y\"+str(y)))\n",
        "new_list"
      ],
      "execution_count": null,
      "outputs": [
        {
          "output_type": "execute_result",
          "data": {
            "text/plain": [
              "[('x0', 'y0'),\n",
              " ('x0', 'y1'),\n",
              " ('x1', 'y0'),\n",
              " ('x1', 'y1'),\n",
              " ('x2', 'y0'),\n",
              " ('x2', 'y1')]"
            ]
          },
          "metadata": {
            "tags": []
          },
          "execution_count": 11
        }
      ]
    },
    {
      "cell_type": "code",
      "metadata": {
        "colab": {
          "base_uri": "https://localhost:8080/"
        },
        "id": "bBF9eoAh8pbA",
        "outputId": "52b8c48b-f848-406e-d765-af982177e8ea"
      },
      "source": [
        "{x:x**2 for x in range(10)if x%2}  #dict comprehension"
      ],
      "execution_count": null,
      "outputs": [
        {
          "output_type": "execute_result",
          "data": {
            "text/plain": [
              "{1: 1, 3: 9, 5: 25, 7: 49, 9: 81}"
            ]
          },
          "metadata": {},
          "execution_count": 1
        }
      ]
    },
    {
      "cell_type": "code",
      "metadata": {
        "colab": {
          "base_uri": "https://localhost:8080/"
        },
        "id": "CtJNlTq29Ed_",
        "outputId": "fec2d2eb-823a-45c4-d420-bfde3d4a6725"
      },
      "source": [
        "{x for x in range(10)if x%2} #set comprehension"
      ],
      "execution_count": null,
      "outputs": [
        {
          "output_type": "execute_result",
          "data": {
            "text/plain": [
              "{1, 3, 5, 7, 9}"
            ]
          },
          "metadata": {
            "tags": []
          },
          "execution_count": 13
        }
      ]
    },
    {
      "cell_type": "code",
      "metadata": {
        "colab": {
          "base_uri": "https://localhost:8080/"
        },
        "id": "0XRBJl9s9Oa4",
        "outputId": "5792d58e-0d11-409d-a591-c3c371e0a8dc"
      },
      "source": [
        "g=(x for x in range(10)) #tuple\n",
        "g\n",
        "tuple(g)"
      ],
      "execution_count": null,
      "outputs": [
        {
          "output_type": "execute_result",
          "data": {
            "text/plain": [
              "(0, 1, 2, 3, 4, 5, 6, 7, 8, 9)"
            ]
          },
          "metadata": {
            "tags": []
          },
          "execution_count": 15
        }
      ]
    },
    {
      "cell_type": "code",
      "metadata": {
        "colab": {
          "base_uri": "https://localhost:8080/"
        },
        "id": "cBQf03_Q5ZB3",
        "outputId": "42e01049-4b88-4836-f649-0783f9f21efe"
      },
      "source": [
        "tuple(x for x in range(10))"
      ],
      "execution_count": null,
      "outputs": [
        {
          "output_type": "execute_result",
          "data": {
            "text/plain": [
              "(0, 1, 2, 3, 4, 5, 6, 7, 8, 9)"
            ]
          },
          "metadata": {},
          "execution_count": 2
        }
      ]
    },
    {
      "cell_type": "markdown",
      "metadata": {
        "id": "DZ5RfGN3FX8W"
      },
      "source": [
        "\n",
        "# 2.3 Function *args **kwargs"
      ]
    },
    {
      "cell_type": "code",
      "metadata": {
        "id": "SAnyPBLMEAwJ"
      },
      "source": [
        "#args creates tuple () , *kwargs creates dictionary {}\n",
        "#*args are usually used we don’t know how many arguments will be passed to the function.\n",
        "#*arg is just a conve)ntion (iterable nature * no change just like tuple"
      ],
      "execution_count": null,
      "outputs": []
    },
    {
      "cell_type": "code",
      "metadata": {
        "id": "n1W75w7yK9oH"
      },
      "source": [
        "#order \n",
        "a, b=40, *args, **kwargs\n",
        "1.standard argument  #a, b=40\n",
        "2.*args              #*args\n",
        "3.**kwargs           #**kwargs"
      ],
      "execution_count": null,
      "outputs": []
    },
    {
      "cell_type": "code",
      "metadata": {
        "colab": {
          "base_uri": "https://localhost:8080/"
        },
        "id": "naOJzXjZBQyN",
        "outputId": "6f5a2723-9f79-4ae0-ff5c-b04fd9d8c803"
      },
      "source": [
        "def myfunc(a, b=40, *args, **kwargs):\n",
        "    print(a) #1      ##1\n",
        "    print(b) #2   ##40 by default\n",
        "    print(args) #(3, 5) ##()\n",
        "    print(kwargs) #{'k': 1, 'j': 4}  ##{}\n",
        "\n",
        "myfunc(1,2,3,5,k=1, j=4)"
      ],
      "execution_count": null,
      "outputs": [
        {
          "output_type": "stream",
          "text": [
            "1\n",
            "2\n",
            "(3, 5)\n",
            "{'k': 1, 'j': 4}\n"
          ],
          "name": "stdout"
        }
      ]
    },
    {
      "cell_type": "code",
      "metadata": {
        "colab": {
          "base_uri": "https://localhost:8080/"
        },
        "id": "vM_H90PN-SKO",
        "outputId": "5e6aecc3-489b-4157-9d1b-c2ef9089f1f4"
      },
      "source": [
        "myfunc(1) ##by default"
      ],
      "execution_count": null,
      "outputs": [
        {
          "output_type": "stream",
          "text": [
            "1\n",
            "40\n",
            "()\n",
            "{}\n"
          ],
          "name": "stdout"
        }
      ]
    },
    {
      "cell_type": "markdown",
      "metadata": {
        "id": "vblmbL2eHSGr"
      },
      "source": [
        "## *args"
      ]
    },
    {
      "cell_type": "code",
      "metadata": {
        "id": "ODoCfnDoHQJX"
      },
      "source": [
        "#single asterisk (*) to unpack iterables\n",
        "##*args are usually used we don’t know how many arguments will be passed to the func"
      ],
      "execution_count": null,
      "outputs": []
    },
    {
      "cell_type": "code",
      "metadata": {
        "colab": {
          "base_uri": "https://localhost:8080/"
        },
        "id": "e6FPRPYoHkSW",
        "outputId": "e9b48ff2-10b5-4326-dd14-bd55daeb9610"
      },
      "source": [
        "def my_sum(*intergers):\n",
        "  result = 0\n",
        "  for x in intergers:\n",
        "      result += x\n",
        "  return result\n",
        "\n",
        "my_sum(1,2,3,) #6"
      ],
      "execution_count": null,
      "outputs": [
        {
          "output_type": "execute_result",
          "data": {
            "text/plain": [
              "6"
            ]
          },
          "metadata": {},
          "execution_count": 7
        }
      ]
    },
    {
      "cell_type": "code",
      "metadata": {
        "id": "lxpFbfsUMe-y"
      },
      "source": [
        "def my_sum(*args):\n",
        "  result = 0\n",
        "  for x in args:\n",
        "      result += x\n",
        "  return result\n",
        "\n",
        "l1= [1,2,3,4]\n",
        "l2= [4,5]\n",
        "l3= [6,7,8,9]\n",
        "\n",
        "my_sum(*l1,*l2,*l3)\n",
        "my_sum() #45"
      ],
      "execution_count": null,
      "outputs": []
    },
    {
      "cell_type": "code",
      "metadata": {
        "colab": {
          "base_uri": "https://localhost:8080/"
        },
        "id": "ndEnFLUvPZsF",
        "outputId": "24a07b77-f359-42f0-c79c-94954f56ab25"
      },
      "source": [
        "#*args are iterable meaning it can store multiple values and are capable of returning them one by one. \n",
        "l=[1,2,3]\n",
        "l   #[1, 2, 3]\n",
        "#VS\n",
        "l=[1,2,3]\n",
        "print(*l)  #1 2 3\n",
        "\n",
        "#extract_list\n",
        "l=[1,2,3,4,5,6]\n",
        "a,*b,c = l\n",
        "print(a) #1\n",
        "print(b) #[2, 3, 4, 5]\n",
        "print(c) #6\n",
        "\n",
        "#merging list\n",
        "l1 = [1,2,3]\n",
        "l2= [4,5,6]\n",
        "lmerging = [*l1, *l2]\n",
        "lmerging #[1, 2, 3, 4, 5, 6] #* return 1 list\n",
        "#VS\n",
        "l1 = [1,2,3]\n",
        "l2= [4,5,6]\n",
        "lmerging = [l1, l2]\n",
        "lmerging #[[1, 2, 3], [4, 5, 6]]\n",
        "\n",
        "#string to list\n",
        "a =[*\"hello\"]\n",
        "print(a) #['h', 'e', 'l', 'l', 'o']\n",
        "#or\n",
        "*a, = 'Hello' #['H', 'e', 'l', 'l', 'o']\n",
        "print(a)"
      ],
      "execution_count": null,
      "outputs": [
        {
          "output_type": "stream",
          "text": [
            "1 2 3\n",
            "1\n",
            "[2, 3, 4, 5]\n",
            "6\n",
            "['h', 'e', 'l', 'l', 'o']\n",
            "['H', 'e', 'l', 'l', 'o']\n"
          ],
          "name": "stdout"
        }
      ]
    },
    {
      "cell_type": "markdown",
      "metadata": {
        "id": "ECXe2EjRIEVq"
      },
      "source": [
        "## **kwargs"
      ]
    },
    {
      "cell_type": "code",
      "metadata": {
        "id": "LE4EeNGGIK9c"
      },
      "source": [
        "# two asterisks (**) to unpack dictionaries\n",
        "# accept keywords or name\n",
        "#use dot value method kwargs.values()"
      ],
      "execution_count": null,
      "outputs": []
    },
    {
      "cell_type": "code",
      "metadata": {
        "id": "OtOsDvB4IRfM"
      },
      "source": [
        "def concatenate(**words):\n",
        "    result =\"\"\n",
        "    for arg in words.values():\n",
        "         result += arg\n",
        "    return result\n",
        "\n",
        "concatenate(a=\"hello\", b=\"hi\") # hellohi\n",
        "\n",
        "\n"
      ],
      "execution_count": null,
      "outputs": []
    },
    {
      "cell_type": "code",
      "metadata": {
        "colab": {
          "base_uri": "https://localhost:8080/"
        },
        "id": "Nk95HPdkRWib",
        "outputId": "b654dfd2-c401-4666-cab4-290997059064"
      },
      "source": [
        "#merging dicts\n",
        "l1={'a':1, 'b':2} #dic use{}\n",
        "l2={'c':3, 'd':4}\n",
        "lmerging= {**l1,**l2}\n",
        "lmerging  #{'a': 1, 'b': 2, 'c': 3, 'd': 4}"
      ],
      "execution_count": null,
      "outputs": [
        {
          "output_type": "execute_result",
          "data": {
            "text/plain": [
              "{'a': 1, 'b': 2, 'c': 3, 'd': 4}"
            ]
          },
          "metadata": {},
          "execution_count": 49
        }
      ]
    },
    {
      "cell_type": "markdown",
      "metadata": {
        "id": "axJR0KzfFz5J"
      },
      "source": [
        "#2.4 Funtions - **kwargs Mutability\n"
      ]
    },
    {
      "cell_type": "markdown",
      "metadata": {
        "id": "Xphgx7PKGBXk"
      },
      "source": [
        ""
      ]
    },
    {
      "cell_type": "code",
      "metadata": {
        "id": "UFjXklCMGCW2",
        "colab": {
          "base_uri": "https://localhost:8080/"
        },
        "outputId": "032840d7-9c25-4d36-e829-20da127667d7"
      },
      "source": [
        "def afunc(list_=None):\n",
        "    inter_list=list_ or []\n",
        "    inter_list = list(inter_list)\n",
        "    inter_list.append(\"Hi\")\n",
        "    return inter_list\n",
        "\n",
        "print(afunc())\n",
        "print(afunc())\n",
        "print(afunc())"
      ],
      "execution_count": null,
      "outputs": [
        {
          "output_type": "stream",
          "text": [
            "['Hi']\n",
            "['Hi']\n",
            "['Hi']\n"
          ],
          "name": "stdout"
        }
      ]
    },
    {
      "cell_type": "markdown",
      "metadata": {
        "id": "mDRPZMExbBhd"
      },
      "source": [
        "*italicized text*"
      ]
    },
    {
      "cell_type": "code",
      "metadata": {
        "colab": {
          "base_uri": "https://localhost:8080/"
        },
        "id": "5Jf0gIc3S24m",
        "outputId": "bf982fa2-cd0a-4065-8a4f-65d2ca365329"
      },
      "source": [
        "def afunc(list_=[]): # not a pure function!\n",
        "    list_.append('Hi') #this will update the list bound to the function\n",
        "    return list_\n",
        "\n",
        "print(afunc()) #['Hi']\n",
        "print(afunc()) #['Hi', 'Hi']\n",
        "print(afunc()) #['Hi', 'Hi', 'Hi']"
      ],
      "execution_count": null,
      "outputs": [
        {
          "output_type": "stream",
          "text": [
            "['Hi']\n",
            "['Hi', 'Hi']\n",
            "['Hi', 'Hi', 'Hi']\n"
          ],
          "name": "stdout"
        }
      ]
    },
    {
      "cell_type": "markdown",
      "metadata": {
        "id": "_RhZtKkTT5yU"
      },
      "source": [
        "# 2.5 scope"
      ]
    },
    {
      "cell_type": "code",
      "metadata": {
        "id": "5w-rRYIzUFyg"
      },
      "source": [
        "# a scope is the programmatic location in which variables are defines\n"
      ],
      "execution_count": null,
      "outputs": []
    },
    {
      "cell_type": "markdown",
      "metadata": {
        "id": "Bmah60mXjsCY"
      },
      "source": [
        "## global"
      ]
    },
    {
      "cell_type": "code",
      "metadata": {
        "id": "LyNoBeTHTkOk"
      },
      "source": [
        "#adding a global variable:\n",
        "globals()['y']=100\n",
        "#or\n",
        "y= '100'\n",
        "globals()\n",
        "\n",
        "# re-assign value\n",
        "globals()['y']=500\n",
        "\n"
      ],
      "execution_count": null,
      "outputs": []
    },
    {
      "cell_type": "code",
      "metadata": {
        "id": "atIpWQjXUSuH"
      },
      "source": [
        "variable_with_global_scope=1\n",
        "\n",
        "def func(variable_with_functional_scope): \n",
        "  global variable_with_global_scope #force python to allow writing to the global variable.\n",
        "\n",
        "  variable_with_global_scope=variable_with_global_scope+variable_with_functional_scope \n",
        "  \n",
        "func(10)\n",
        "print(variable_with_global_scope) #11 1+10"
      ],
      "execution_count": null,
      "outputs": []
    },
    {
      "cell_type": "code",
      "metadata": {
        "id": "8lTcMkNLhJAd"
      },
      "source": [
        "x=\"foo\" \n",
        "globals() #add x=foo in globals function\n",
        "\n",
        "globals()['x'] #foo\n",
        "x is globals()['x'] #true"
      ],
      "execution_count": null,
      "outputs": []
    },
    {
      "cell_type": "code",
      "metadata": {
        "id": "MJjIdqHYh9YG"
      },
      "source": [
        "#module\n",
        "import datetime \n",
        "globals()"
      ],
      "execution_count": null,
      "outputs": []
    },
    {
      "cell_type": "markdown",
      "metadata": {
        "id": "yQE0IxlubudQ"
      },
      "source": [
        "# 2.6 Lambda functions"
      ]
    },
    {
      "cell_type": "code",
      "metadata": {
        "id": "2BclOEN_tvTC"
      },
      "source": [
        "#lambda function: anonymous function or a function having no name.\n",
        "#Just like a normal function, a Lambda function can have multiple arguments with one expression."
      ],
      "execution_count": null,
      "outputs": []
    },
    {
      "cell_type": "code",
      "metadata": {
        "colab": {
          "base_uri": "https://localhost:8080/"
        },
        "id": "iTMZVcMOdUiN",
        "outputId": "d5da8831-5c2b-4764-ef7b-7560731cb9bc"
      },
      "source": [
        "# square a number\n",
        "square=lambda x:x**2\n",
        "square(5) #25\n",
        "\n",
        "square=lambda num:num**2\n",
        "square(28) #784\n",
        "\n",
        "# 2 add two number\n",
        "add = lambda x,y:x+y\n",
        "add(3,5) #8\n",
        "\n",
        "# power \n",
        "power= lambda x, y:x**y\n",
        "power(5,3)  #125"
      ],
      "execution_count": null,
      "outputs": [
        {
          "output_type": "execute_result",
          "data": {
            "text/plain": [
              "125"
            ]
          },
          "metadata": {},
          "execution_count": 63
        }
      ]
    },
    {
      "cell_type": "code",
      "metadata": {
        "id": "Vkp2SrPx68gv"
      },
      "source": [
        "#lambda functions with list.sort(), filter(), map() and reduce\n"
      ],
      "execution_count": null,
      "outputs": []
    },
    {
      "cell_type": "markdown",
      "metadata": {
        "id": "BMB7wbxqqkOS"
      },
      "source": [
        "### Lambda sort"
      ]
    },
    {
      "cell_type": "code",
      "metadata": {
        "id": "pPcBKd52ntxA"
      },
      "source": [
        "# Sort list.sort(key=none,reverse=Flase)\n",
        "\n",
        "cmp = [\"M C\",'R G','j s','s r','a w','k m','r e']\n",
        "print(cmp) #['M C', 'R G', 'j s', 's r', 'a w', 'k m', 'r e']\n",
        "\n",
        "cmp.sort(key=lambda x:x.split()[-1])  #lambda allow sort by last name\n",
        "print(cmp) #['M C', 'R G', 'r e', 'k m', 's r', 'j s', 'a w']"
      ],
      "execution_count": null,
      "outputs": []
    },
    {
      "cell_type": "code",
      "metadata": {
        "id": "i-h0Bj4DpTTZ"
      },
      "source": [
        "#Sort by number  (\"steve\",35) \n",
        "#people.sort(key=lambda x:x[1])"
      ],
      "execution_count": null,
      "outputs": []
    },
    {
      "cell_type": "code",
      "metadata": {
        "id": "DguVyOEApBpy"
      },
      "source": [
        "#sort-object \n",
        "class person:\n",
        "    def i(self , name, age):\n",
        "        self.name=name\n",
        "        self.age=age\n",
        "    def r(self):\n",
        "        return f'{self.name}:{self.age}'\n",
        "\n",
        "alex= person('alex',16)\n",
        "edd=person('edd',12)\n",
        "p=[alex,edd]\n",
        "print(p)\n",
        "p.sort(key=lambda x:x.age) #[edd:12, alex:16 ]\n",
        "print(p)\n",
        "\n",
        "  "
      ],
      "execution_count": null,
      "outputs": []
    },
    {
      "cell_type": "code",
      "metadata": {
        "id": "ZKagsruGtrFg"
      },
      "source": [
        "from statistics import mean\n",
        "data =list(range(1,21))\n",
        "avg = mean(data)\n",
        "above_avg = list(filter(lambda x:x>avg ,data))\n",
        "print(data)\n",
        "print(above_avg) #[11, 12, 13, 14, 15, 16, 17, 18, 19, 20]\n"
      ],
      "execution_count": null,
      "outputs": []
    },
    {
      "cell_type": "code",
      "metadata": {
        "id": "aJhQExY4v3Ch"
      },
      "source": [
        "#filter item\n",
        "short = list(filter(lambda x: len(x)>6,nicknames))"
      ],
      "execution_count": null,
      "outputs": []
    },
    {
      "cell_type": "code",
      "metadata": {
        "id": "D8HdT8K7wQRX"
      },
      "source": [
        "#filter even number\n",
        "evens = list(filter(lambda x: x%2==0,nums))"
      ],
      "execution_count": null,
      "outputs": []
    },
    {
      "cell_type": "markdown",
      "metadata": {
        "id": "NN__8KetyN9z"
      },
      "source": [
        "### Map"
      ]
    },
    {
      "cell_type": "code",
      "metadata": {
        "id": "3lJpSaMJwxeH",
        "colab": {
          "base_uri": "https://localhost:8080/"
        },
        "outputId": "45b6d422-6119-4775-e883-1c6e2d225dfe"
      },
      "source": [
        "nums= list (range(1,5))\n",
        "squared= list(map(lambda x:x**2,nums))\n",
        "print (squared)\n",
        "# [1,2,3,4] #[1,4,9,16]"
      ],
      "execution_count": null,
      "outputs": [
        {
          "output_type": "stream",
          "text": [
            "[1, 4, 9, 16]\n"
          ],
          "name": "stdout"
        }
      ]
    },
    {
      "cell_type": "code",
      "metadata": {
        "id": "4zSzoFjFzsZn"
      },
      "source": [
        "#make team add one more point to the score\n",
        "new = list(map(lambda team: team[0],team[1]+1, wc_teams))\n",
        "#\"brazil:21\" ~ \"brazil:22\""
      ],
      "execution_count": null,
      "outputs": []
    },
    {
      "cell_type": "markdown",
      "metadata": {
        "id": "kIKPWtfM0peu"
      },
      "source": [
        "### Reduce"
      ]
    },
    {
      "cell_type": "code",
      "metadata": {
        "id": "jVTmR0tq0S4M"
      },
      "source": [
        "# allows cumulative, form left to right , to a single value"
      ],
      "execution_count": null,
      "outputs": []
    },
    {
      "cell_type": "code",
      "metadata": {
        "id": "fPquIFub05ZP",
        "colab": {
          "base_uri": "https://localhost:8080/"
        },
        "outputId": "d46dfc62-afc2-4480-ea6d-967303394146"
      },
      "source": [
        "from functools import reduce\n",
        "nums=list (range(1,11))\n",
        "total = reduce(lambda x, y: x+y,nums) #x*y 3628800\n",
        "print(total) #55 # same as sum(numbs)\n"
      ],
      "execution_count": null,
      "outputs": [
        {
          "output_type": "stream",
          "text": [
            "55\n"
          ],
          "name": "stdout"
        }
      ]
    },
    {
      "cell_type": "code",
      "metadata": {
        "id": "mu8vGuro2VWE"
      },
      "source": [
        "# add all the first 2 charaters of the name together\n",
        "conc= reduce(lambda x, y: x, y[:2], names, ' ') \n",
        "\n",
        "#' ' is for in case name is less than 3 charaters like\"dan\"\n",
        "# dan darren joanna  ~ dadajo"
      ],
      "execution_count": null,
      "outputs": []
    },
    {
      "cell_type": "markdown",
      "metadata": {
        "id": "hEvBj8k2bEao"
      },
      "source": [
        "# 2.8 Exception"
      ]
    },
    {
      "cell_type": "code",
      "metadata": {
        "id": "hpSkQ6hLc_w6"
      },
      "source": [
        "#exception raised when code with correct syntax results in an error"
      ],
      "execution_count": null,
      "outputs": []
    },
    {
      "cell_type": "markdown",
      "metadata": {
        "id": "DVdT_8bBfjXO"
      },
      "source": [
        "## Raise exception"
      ]
    },
    {
      "cell_type": "code",
      "metadata": {
        "id": "CensuLfPdPl9"
      },
      "source": [
        "print(0/0) #ZeroDivisionError: division by zero #exception\n",
        "print(0/0)) #SyntaxError: invalid syntax #wrong syntax\n"
      ],
      "execution_count": null,
      "outputs": []
    },
    {
      "cell_type": "code",
      "metadata": {
        "id": "fO9wio5Jexp8"
      },
      "source": [
        "X=10\n",
        "if X>5:\n",
        "  raise Exception(f\"X needs to be under 5. it was {X}\") #Exception: X needs to be under 5. it was 10\n",
        "print(\"made it to the end!\")"
      ],
      "execution_count": null,
      "outputs": []
    },
    {
      "cell_type": "markdown",
      "metadata": {
        "id": "Apx9G3yEfqpj"
      },
      "source": [
        "## Using assert"
      ]
    },
    {
      "cell_type": "code",
      "metadata": {
        "id": "y2Z79WpxfAao"
      },
      "source": [
        "# assert(condition), \"optional messgage if not met\"\n",
        "#he assert statement is used to continue the execute if the given condition evaluates to True. \n",
        "#If the assert condition evaluates to False, then it raises the AssertionError exception "
      ],
      "execution_count": null,
      "outputs": []
    },
    {
      "cell_type": "code",
      "metadata": {
        "id": "FqfQhgdlf9xC"
      },
      "source": [
        "name=\"qu\"\n",
        "assert(name==\"qu\")\n",
        "print(f\"my name if {name}\") #my name if qu"
      ],
      "execution_count": null,
      "outputs": []
    },
    {
      "cell_type": "code",
      "metadata": {
        "id": "KFvQpgoagfZa"
      },
      "source": [
        "name=\"hu\"\n",
        "assert(name==\"qu\")\n",
        "print(f\"my name if {name}\") #AssertionError: "
      ],
      "execution_count": null,
      "outputs": []
    },
    {
      "cell_type": "markdown",
      "metadata": {
        "id": "LdFQ_T_ZhZAV"
      },
      "source": [
        "## Try and except"
      ]
    },
    {
      "cell_type": "code",
      "metadata": {
        "colab": {
          "base_uri": "https://localhost:8080/"
        },
        "id": "3eghD5Wbho3H",
        "outputId": "eef1964b-6e49-40e9-da53-1608a9b4686b"
      },
      "source": [
        "x='sausage'\n",
        "try:\n",
        "  answer=1/x\n",
        "except ZeroDivisionError:\n",
        "  answer='underfine'  #1/0\n",
        "except TypeError:\n",
        "  answer=\"meaningless\" #The answer is meaningless\n",
        "print(f\"The answer is {answer}\")"
      ],
      "execution_count": null,
      "outputs": [
        {
          "output_type": "stream",
          "text": [
            "The answer is meaningless\n"
          ],
          "name": "stdout"
        }
      ]
    },
    {
      "cell_type": "markdown",
      "metadata": {
        "id": "1uhAoUDejHiD"
      },
      "source": [
        "## else "
      ]
    },
    {
      "cell_type": "code",
      "metadata": {
        "colab": {
          "base_uri": "https://localhost:8080/"
        },
        "id": "Ah9xn8fTjYsm",
        "outputId": "35203c6f-0f40-4ee7-d316-95cdb6c3fbaf"
      },
      "source": [
        "x=1\n",
        "try:\n",
        "  answer=1/x\n",
        "except ZeroDivisionError:\n",
        "  answer='underfine' \n",
        "except TypeError:\n",
        "  answer=\"meaningless\"\n",
        "else:    #no exception raise\n",
        "  print(\"Thanks for putting in a number\")\n",
        "print(f\"The answer is {answer}\")"
      ],
      "execution_count": null,
      "outputs": [
        {
          "output_type": "stream",
          "text": [
            "Thanks for putting in a number\n",
            "The answer is 1.0\n"
          ],
          "name": "stdout"
        }
      ]
    },
    {
      "cell_type": "markdown",
      "metadata": {
        "id": "w4PUUbDPkKeK"
      },
      "source": [
        "## Finally"
      ]
    },
    {
      "cell_type": "code",
      "metadata": {
        "id": "1HYiQgokkQAS"
      },
      "source": [
        "#use- by tidying up even when a program fails"
      ],
      "execution_count": null,
      "outputs": []
    },
    {
      "cell_type": "code",
      "metadata": {
        "colab": {
          "base_uri": "https://localhost:8080/"
        },
        "id": "V-FGPx0QkY7K",
        "outputId": "c4f73c3d-1d46-4ce1-b9d8-9cf4e1b382fe"
      },
      "source": [
        "x=1\n",
        "print('open file...')\n",
        "try:\n",
        "  answer=1/x\n",
        "except ZeroDivisionError:\n",
        "  answer='underfined' \n",
        "else:    \n",
        "  print(\"Thanks for putting in a number\")\n",
        "finally:\n",
        "  print('closing file...')\n",
        "print(f\"The answer is {answer}\")"
      ],
      "execution_count": null,
      "outputs": [
        {
          "output_type": "stream",
          "text": [
            "open file...\n",
            "Thanks for putting in a number\n",
            "closing file...\n",
            "The answer is 1.0\n"
          ],
          "name": "stdout"
        }
      ]
    },
    {
      "cell_type": "markdown",
      "metadata": {
        "id": "kJZn2Y2wrm94"
      },
      "source": [
        "## From the class"
      ]
    },
    {
      "cell_type": "code",
      "metadata": {
        "colab": {
          "base_uri": "https://localhost:8080/"
        },
        "id": "iguJ4rCgrqgT",
        "outputId": "91a75854-c5c4-482d-d94c-e972c5348246"
      },
      "source": [
        "try:\n",
        "  int('0/0')\n",
        "except (ValueError, TypeError):\n",
        "  print(\"This is an error\")\n",
        "else:\n",
        "  print('only run')\n",
        "finally: #no matter what, do this\n",
        "  print('Run right before the error')\n"
      ],
      "execution_count": null,
      "outputs": [
        {
          "output_type": "stream",
          "text": [
            "This is an error\n",
            "Run right before the error\n"
          ],
          "name": "stdout"
        }
      ]
    },
    {
      "cell_type": "markdown",
      "metadata": {
        "id": "2LJ5IOJLvF-x"
      },
      "source": [
        "# 2.9 generators"
      ]
    },
    {
      "cell_type": "markdown",
      "metadata": {
        "id": "1DqIOZo00qh6"
      },
      "source": [
        "## Understanding generator"
      ]
    },
    {
      "cell_type": "code",
      "metadata": {
        "id": "42bKKLnKy1Kl"
      },
      "source": [
        "#generator Can be used to produce an infinite number of items\n",
        "#create normal functions using the ‘def’ keyword\n",
        "# use of the yield keyword instead of return"
      ],
      "execution_count": null,
      "outputs": []
    },
    {
      "cell_type": "code",
      "metadata": {
        "id": "YoV_oeW6z5lB"
      },
      "source": [
        "#generator function\n",
        "def myfunc():\n",
        "    yield value\n",
        "\n",
        "#generator expression\n",
        "Nums_squared_gc=(i**2 for i in range(1000))\n"
      ],
      "execution_count": null,
      "outputs": []
    },
    {
      "cell_type": "code",
      "metadata": {
        "id": "qPYQTIzHvKIE"
      },
      "source": [
        "def infinite_sequence():\n",
        "  num=0\n",
        "  while True:\n",
        "    yield num\n",
        "    num +=1\n",
        "    yield \"This is the second \"\n",
        "\n",
        "inf=infinite_sequence()\n",
        "print(next(inf)) #0\n",
        "print(next(inf)) #This is the second\n",
        "print(next(inf)) #1"
      ],
      "execution_count": null,
      "outputs": []
    },
    {
      "cell_type": "code",
      "metadata": {
        "id": "pAYlgZ0dxJlh"
      },
      "source": [
        "#no more to run\n",
        "def infinite_sequence():\n",
        "  nums=[1,2,3]\n",
        "  for num in nums:\n",
        "      yield num\n",
        "\n",
        "inf=infinite_sequence()\n",
        "print(next(inf)) #1\n",
        "print(next(inf)) #2\n",
        "print(next(inf)) #3\n",
        "print(next(inf)) #StopIteration:\n"
      ],
      "execution_count": null,
      "outputs": []
    },
    {
      "cell_type": "code",
      "metadata": {
        "id": "u9cDR-C5zI_G"
      },
      "source": [
        "nums_squared_lc=[num**2 for num in range(5)]  #list []\n",
        "nums_squared_lc=(num**2 for num in range(5))  #generator()\n",
        "#generator more memory, less speed"
      ],
      "execution_count": null,
      "outputs": []
    },
    {
      "cell_type": "markdown",
      "metadata": {
        "id": "YPRey5em0v0M"
      },
      "source": [
        "## Using advanced generator methods"
      ]
    },
    {
      "cell_type": "code",
      "metadata": {
        "id": "_scCMmAv02ab"
      },
      "source": [
        "  #.send() slip a value into the last yeild statement where you stopped\n",
        "while True:\n",
        "     if is_pal(num):\n",
        "        i = (yield num) #the generator yeild.send back here\n",
        "for i in pal_gen:\n",
        "    print(i)\n",
        "    digits=len(str(i))\n",
        "    pal_gen.send(10**(digits))  # send slip value back where you stopped\n",
        "\n"
      ],
      "execution_count": null,
      "outputs": []
    },
    {
      "cell_type": "code",
      "metadata": {
        "id": "lfHFK46r3hjl"
      },
      "source": [
        "#.throw() throw a exception\n",
        "if digits ==5:\n",
        "  pal_gen.throw(ValueError(\"We don't like large palindromes\"))\n",
        "  #11 111 1111 10101 Traceback((\"We don't like large palindromes\"))"
      ],
      "execution_count": null,
      "outputs": []
    },
    {
      "cell_type": "code",
      "metadata": {
        "id": "WUnyCIjQ3iHQ"
      },
      "source": [
        "#.close() causes the generator to lose state, just like return \n",
        "if digits ==5:\n",
        "  pal_gen.close()\n",
        "##11 111 1111 10101 StopIteration"
      ],
      "execution_count": null,
      "outputs": []
    },
    {
      "cell_type": "markdown",
      "metadata": {
        "id": "0dr0-TIh5GYU"
      },
      "source": [
        "## data pipelines with genarator"
      ]
    },
    {
      "cell_type": "code",
      "metadata": {
        "id": "KgQq89h-5d0Q"
      },
      "source": [
        "#big and alot of data \n",
        "# one line at a time\n"
      ],
      "execution_count": null,
      "outputs": []
    },
    {
      "cell_type": "code",
      "metadata": {
        "id": "rN7rI1Tz6Zza"
      },
      "source": [
        "f_n='tech'\n",
        "lines=(line for line in open(f_n)) #() for generator \n",
        "list_line=(s.rstrip().split(',' ) for s in lines)\n",
        "cols = next(list_line)\n",
        "company_dicts= (dict (zip(cols, data))for data in list_line)\n",
        "funding = (\n",
        "    int (company_dicts['raistedAmt'])\n",
        "    for company_dict in company_dicts\n",
        "    if company_dict['round'] == 'a'\n",
        ")\n",
        "total_series_a= sum(funding)\n",
        "print(f'Total series a fundraising: ${total_series_a}')"
      ],
      "execution_count": null,
      "outputs": []
    },
    {
      "cell_type": "markdown",
      "metadata": {
        "id": "bkBbjp5GGEe0"
      },
      "source": [
        "## code from class"
      ]
    },
    {
      "cell_type": "code",
      "metadata": {
        "id": "4l8os9t1Gr0M"
      },
      "source": [
        "# yield form : allows us pull from iterable"
      ],
      "execution_count": null,
      "outputs": []
    },
    {
      "cell_type": "code",
      "metadata": {
        "id": "Rs0Y3q45GDZ9",
        "colab": {
          "base_uri": "https://localhost:8080/"
        },
        "outputId": "16510119-e0bd-4299-e008-ee3c736fbc62"
      },
      "source": [
        "def gen(x):\n",
        "  yield from range(x) \n",
        "\n",
        "for i in gen(5):\n",
        "    print('from yeild from', i)"
      ],
      "execution_count": null,
      "outputs": [
        {
          "output_type": "stream",
          "text": [
            "from yeild from 0\n",
            "from yeild from 1\n",
            "from yeild from 2\n",
            "from yeild from 3\n",
            "from yeild from 4\n"
          ],
          "name": "stdout"
        }
      ]
    },
    {
      "cell_type": "code",
      "metadata": {
        "id": "CFTqeyPIG-I7"
      },
      "source": [
        "# for loop : create and run an iterator to exhaustion"
      ],
      "execution_count": null,
      "outputs": []
    },
    {
      "cell_type": "code",
      "metadata": {
        "id": "1xhvLwLgHHVT"
      },
      "source": [
        "for item in [1,2,3]:\n",
        "  print(item)"
      ],
      "execution_count": null,
      "outputs": []
    }
  ]
}